{
 "cells": [
  {
   "cell_type": "code",
   "execution_count": 1,
   "metadata": {},
   "outputs": [],
   "source": [
    "import pandas as pd\n",
    "import matplotlib.pyplot as plt\n",
    "import numpy as np \n",
    "import pylab"
   ]
  },
  {
   "cell_type": "code",
   "execution_count": 2,
   "metadata": {},
   "outputs": [],
   "source": [
    "pylab.rcParams['figure.figsize'] = 10,8\n",
    "%matplotlib inline"
   ]
  },
  {
   "cell_type": "code",
   "execution_count": 3,
   "metadata": {},
   "outputs": [],
   "source": [
    "df = pd.read_csv('./data/data_cleaned/edu_finance_fill_na.csv')"
   ]
  },
  {
   "cell_type": "code",
   "execution_count": 5,
   "metadata": {},
   "outputs": [],
   "source": [
    "df.columns  = df.columns.str.lower()"
   ]
  },
  {
   "cell_type": "code",
   "execution_count": 6,
   "metadata": {},
   "outputs": [
    {
     "data": {
      "text/html": [
       "<div>\n",
       "<style scoped>\n",
       "    .dataframe tbody tr th:only-of-type {\n",
       "        vertical-align: middle;\n",
       "    }\n",
       "\n",
       "    .dataframe tbody tr th {\n",
       "        vertical-align: top;\n",
       "    }\n",
       "\n",
       "    .dataframe thead th {\n",
       "        text-align: right;\n",
       "    }\n",
       "</style>\n",
       "<table border=\"1\" class=\"dataframe\">\n",
       "  <thead>\n",
       "    <tr style=\"text-align: right;\">\n",
       "      <th></th>\n",
       "      <th>state</th>\n",
       "      <th>year</th>\n",
       "      <th>enroll</th>\n",
       "      <th>total_revenue</th>\n",
       "      <th>federal_revenue</th>\n",
       "      <th>state_revenue</th>\n",
       "      <th>local_revenue</th>\n",
       "      <th>total_expenditure</th>\n",
       "      <th>instruction_expenditure</th>\n",
       "      <th>support_services_expenditure</th>\n",
       "      <th>other_expenditure</th>\n",
       "      <th>capital_outlay_expenditure</th>\n",
       "      <th>total_known_expenditure</th>\n",
       "      <th>unknown_expenditure</th>\n",
       "      <th>rev_per_enroll</th>\n",
       "    </tr>\n",
       "  </thead>\n",
       "  <tbody>\n",
       "    <tr>\n",
       "      <th>0</th>\n",
       "      <td>Alabama</td>\n",
       "      <td>1992</td>\n",
       "      <td>7.203800e+05</td>\n",
       "      <td>2678885</td>\n",
       "      <td>304177</td>\n",
       "      <td>1659028</td>\n",
       "      <td>715680</td>\n",
       "      <td>2653798</td>\n",
       "      <td>1481703</td>\n",
       "      <td>735036</td>\n",
       "      <td>1.453021e+05</td>\n",
       "      <td>174053</td>\n",
       "      <td>2.536094e+06</td>\n",
       "      <td>117703.947601</td>\n",
       "      <td>3.718711</td>\n",
       "    </tr>\n",
       "    <tr>\n",
       "      <th>1</th>\n",
       "      <td>Alaska</td>\n",
       "      <td>1992</td>\n",
       "      <td>1.176000e+05</td>\n",
       "      <td>1049591</td>\n",
       "      <td>106780</td>\n",
       "      <td>720711</td>\n",
       "      <td>222100</td>\n",
       "      <td>972488</td>\n",
       "      <td>498362</td>\n",
       "      <td>350902</td>\n",
       "      <td>3.686479e+04</td>\n",
       "      <td>37451</td>\n",
       "      <td>9.235798e+05</td>\n",
       "      <td>48908.211180</td>\n",
       "      <td>8.925097</td>\n",
       "    </tr>\n",
       "    <tr>\n",
       "      <th>2</th>\n",
       "      <td>Arizona</td>\n",
       "      <td>1992</td>\n",
       "      <td>6.390064e+05</td>\n",
       "      <td>3258079</td>\n",
       "      <td>297888</td>\n",
       "      <td>1369815</td>\n",
       "      <td>1590376</td>\n",
       "      <td>3401580</td>\n",
       "      <td>1435908</td>\n",
       "      <td>1007732</td>\n",
       "      <td>1.759214e+05</td>\n",
       "      <td>609114</td>\n",
       "      <td>3.228675e+06</td>\n",
       "      <td>172904.622261</td>\n",
       "      <td>5.098664</td>\n",
       "    </tr>\n",
       "    <tr>\n",
       "      <th>3</th>\n",
       "      <td>Arkansas</td>\n",
       "      <td>1992</td>\n",
       "      <td>3.127418e+05</td>\n",
       "      <td>1711959</td>\n",
       "      <td>178571</td>\n",
       "      <td>958785</td>\n",
       "      <td>574603</td>\n",
       "      <td>1743022</td>\n",
       "      <td>964323</td>\n",
       "      <td>483488</td>\n",
       "      <td>7.905631e+04</td>\n",
       "      <td>145212</td>\n",
       "      <td>1.672079e+06</td>\n",
       "      <td>70942.692461</td>\n",
       "      <td>5.474033</td>\n",
       "    </tr>\n",
       "    <tr>\n",
       "      <th>4</th>\n",
       "      <td>California</td>\n",
       "      <td>1992</td>\n",
       "      <td>8.496892e+06</td>\n",
       "      <td>26260025</td>\n",
       "      <td>2072470</td>\n",
       "      <td>16546514</td>\n",
       "      <td>7641041</td>\n",
       "      <td>27138832</td>\n",
       "      <td>14358922</td>\n",
       "      <td>8520926</td>\n",
       "      <td>1.615984e+06</td>\n",
       "      <td>2044688</td>\n",
       "      <td>2.654052e+07</td>\n",
       "      <td>598312.225281</td>\n",
       "      <td>3.090545</td>\n",
       "    </tr>\n",
       "  </tbody>\n",
       "</table>\n",
       "</div>"
      ],
      "text/plain": [
       "        state  year        enroll  total_revenue  federal_revenue  \\\n",
       "0     Alabama  1992  7.203800e+05        2678885           304177   \n",
       "1      Alaska  1992  1.176000e+05        1049591           106780   \n",
       "2     Arizona  1992  6.390064e+05        3258079           297888   \n",
       "3    Arkansas  1992  3.127418e+05        1711959           178571   \n",
       "4  California  1992  8.496892e+06       26260025          2072470   \n",
       "\n",
       "   state_revenue  local_revenue  total_expenditure  instruction_expenditure  \\\n",
       "0        1659028         715680            2653798                  1481703   \n",
       "1         720711         222100             972488                   498362   \n",
       "2        1369815        1590376            3401580                  1435908   \n",
       "3         958785         574603            1743022                   964323   \n",
       "4       16546514        7641041           27138832                 14358922   \n",
       "\n",
       "   support_services_expenditure  other_expenditure  \\\n",
       "0                        735036       1.453021e+05   \n",
       "1                        350902       3.686479e+04   \n",
       "2                       1007732       1.759214e+05   \n",
       "3                        483488       7.905631e+04   \n",
       "4                       8520926       1.615984e+06   \n",
       "\n",
       "   capital_outlay_expenditure  total_known_expenditure  unknown_expenditure  \\\n",
       "0                      174053             2.536094e+06        117703.947601   \n",
       "1                       37451             9.235798e+05         48908.211180   \n",
       "2                      609114             3.228675e+06        172904.622261   \n",
       "3                      145212             1.672079e+06         70942.692461   \n",
       "4                     2044688             2.654052e+07        598312.225281   \n",
       "\n",
       "   rev_per_enroll  \n",
       "0        3.718711  \n",
       "1        8.925097  \n",
       "2        5.098664  \n",
       "3        5.474033  \n",
       "4        3.090545  "
      ]
     },
     "execution_count": 6,
     "metadata": {},
     "output_type": "execute_result"
    }
   ],
   "source": [
    "df.head()"
   ]
  },
  {
   "cell_type": "markdown",
   "metadata": {},
   "source": [
    "# PCA "
   ]
  },
  {
   "cell_type": "code",
   "execution_count": 8,
   "metadata": {},
   "outputs": [],
   "source": [
    "from sklearn.decomposition import PCA\n",
    "from sklearn.cluster import KMeans"
   ]
  },
  {
   "cell_type": "code",
   "execution_count": 9,
   "metadata": {},
   "outputs": [],
   "source": [
    "pca = PCA(n_components=1)\n",
    "feature_New = pca.fit_transform(df.drop(['state', 'year', 'enroll'], axis = 1))"
   ]
  },
  {
   "cell_type": "code",
   "execution_count": 10,
   "metadata": {},
   "outputs": [
    {
     "data": {
      "text/plain": [
       "array([0.98989021])"
      ]
     },
     "execution_count": 10,
     "metadata": {},
     "output_type": "execute_result"
    }
   ],
   "source": [
    "pca.explained_variance_ratio_"
   ]
  },
  {
   "cell_type": "code",
   "execution_count": 11,
   "metadata": {},
   "outputs": [
    {
     "data": {
      "text/plain": [
       "(1224, 1)"
      ]
     },
     "execution_count": 11,
     "metadata": {},
     "output_type": "execute_result"
    }
   ],
   "source": [
    "feature_New.shape"
   ]
  },
  {
   "cell_type": "code",
   "execution_count": 13,
   "metadata": {},
   "outputs": [
    {
     "data": {
      "text/plain": [
       "<matplotlib.collections.PathCollection at 0x7f6f77755438>"
      ]
     },
     "execution_count": 13,
     "metadata": {},
     "output_type": "execute_result"
    },
    {
     "data": {
      "image/png": "[encoded data removed]",
      "text/plain": [
       "<Figure size 432x288 with 1 Axes>"
      ]
     },
     "metadata": {},
     "output_type": "display_data"
    }
   ],
   "source": [
    "plt.figure()\n",
    "plt.scatter(feature_New, df.enroll)\n"
   ]
  },
  {
   "cell_type": "markdown",
   "metadata": {},
   "source": [
    "# KMeans"
   ]
  },
  {
   "cell_type": "code",
   "execution_count": 14,
   "metadata": {},
   "outputs": [],
   "source": [
    "kmeans = KMeans(n_clusters=10, n_init=20)"
   ]
  },
  {
   "cell_type": "code",
   "execution_count": 16,
   "metadata": {},
   "outputs": [],
   "source": [
    "y_pred = kmeans.fit_predict(np.c_[feature_New, df.enroll])"
   ]
  },
  {
   "cell_type": "code",
   "execution_count": 17,
   "metadata": {},
   "outputs": [
    {
     "data": {
      "text/plain": [
       "<matplotlib.collections.PathCollection at 0x7f6f776e7f98>"
      ]
     },
     "execution_count": 17,
     "metadata": {},
     "output_type": "execute_result"
    },
    {
     "data": {
      "image/png": "[encoded data removed]",
      "text/plain": [
       "<Figure size 432x288 with 1 Axes>"
      ]
     },
     "metadata": {},
     "output_type": "display_data"
    }
   ],
   "source": [
    "plt.figure()\n",
    "plt.scatter(feature_New, df.enroll, c = y_pred, cmap = 'jet')"
   ]
  },
  {
   "cell_type": "code",
   "execution_count": null,
   "metadata": {},
   "outputs": [],
   "source": []
  },
  {
   "cell_type": "code",
   "execution_count": null,
   "metadata": {},
   "outputs": [],
   "source": []
  }
 ],
 "metadata": {
  "kernelspec": {
   "display_name": "Python 3",
   "language": "python",
   "name": "python3"
  },
  "language_info": {
   "codemirror_mode": {
    "name": "ipython",
    "version": 3
   },
   "file_extension": ".py",
   "mimetype": "text/x-python",
   "name": "python",
   "nbconvert_exporter": "python",
   "pygments_lexer": "ipython3",
   "version": "3.6.5"
  }
 },
 "nbformat": 4,
 "nbformat_minor": 2
}
