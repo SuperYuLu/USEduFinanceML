{
 "cells": [
  {
   "cell_type": "code",
   "execution_count": 1,
   "metadata": {},
   "outputs": [],
   "source": [
    "import pandas as pd\n",
    "import numpy as np\n",
    "import seaborn as sns \n",
    "import matplotlib.pyplot as plt\n",
    "import pylab"
   ]
  },
  {
   "cell_type": "code",
   "execution_count": 2,
   "metadata": {},
   "outputs": [],
   "source": [
    "pylab.rcParams['figure.figsize'] = 10, 8\n",
    "%matplotlib inline"
   ]
  },
  {
   "cell_type": "code",
   "execution_count": 3,
   "metadata": {},
   "outputs": [],
   "source": [
    "df = pd.read_csv('./data/data_cleaned/combined_data_state_level_from_1992.csv')"
   ]
  },
  {
   "cell_type": "code",
   "execution_count": 4,
   "metadata": {},
   "outputs": [
    {
     "data": {
      "text/plain": [
       "state                      0\n",
       "year                       0\n",
       "enroll                    51\n",
       "total_revenue              0\n",
       "total_expenditure          0\n",
       "expenditure_per_pupil     51\n",
       "population                 0\n",
       "gdp_per_capita           255\n",
       "state_tax_collection     120\n",
       "income_per_capita          0\n",
       "known_property_crimes      5\n",
       "unemployment_rate          0\n",
       "dtype: int64"
      ]
     },
     "execution_count": 4,
     "metadata": {},
     "output_type": "execute_result"
    }
   ],
   "source": [
    "df.isnull().sum()"
   ]
  },
  {
   "cell_type": "markdown",
   "metadata": {},
   "source": [
    "# Deal with NaNs using pchip"
   ]
  },
  {
   "cell_type": "code",
   "execution_count": 5,
   "metadata": {},
   "outputs": [],
   "source": [
    "for s in df.state.unique():\n",
    "    df[df.state == s] = df[df.state == s].interpolate(method = 'pchip',limit_direction = 'both')"
   ]
  },
  {
   "cell_type": "code",
   "execution_count": 6,
   "metadata": {},
   "outputs": [
    {
     "data": {
      "text/html": [
       "<div>\n",
       "<style scoped>\n",
       "    .dataframe tbody tr th:only-of-type {\n",
       "        vertical-align: middle;\n",
       "    }\n",
       "\n",
       "    .dataframe tbody tr th {\n",
       "        vertical-align: top;\n",
       "    }\n",
       "\n",
       "    .dataframe thead th {\n",
       "        text-align: right;\n",
       "    }\n",
       "</style>\n",
       "<table border=\"1\" class=\"dataframe\">\n",
       "  <thead>\n",
       "    <tr style=\"text-align: right;\">\n",
       "      <th></th>\n",
       "      <th>state</th>\n",
       "      <th>year</th>\n",
       "      <th>enroll</th>\n",
       "      <th>total_revenue</th>\n",
       "      <th>total_expenditure</th>\n",
       "      <th>expenditure_per_pupil</th>\n",
       "      <th>population</th>\n",
       "      <th>gdp_per_capita</th>\n",
       "      <th>state_tax_collection</th>\n",
       "      <th>income_per_capita</th>\n",
       "      <th>known_property_crimes</th>\n",
       "      <th>unemployment_rate</th>\n",
       "    </tr>\n",
       "  </thead>\n",
       "  <tbody>\n",
       "    <tr>\n",
       "      <th>0</th>\n",
       "      <td>Alabama</td>\n",
       "      <td>1992</td>\n",
       "      <td>7.203800e+05</td>\n",
       "      <td>2678885</td>\n",
       "      <td>2653798</td>\n",
       "      <td>3616.0</td>\n",
       "      <td>4139269.0</td>\n",
       "      <td>31568.187354</td>\n",
       "      <td>1.647790e+08</td>\n",
       "      <td>17537</td>\n",
       "      <td>163966.0</td>\n",
       "      <td>0.075667</td>\n",
       "    </tr>\n",
       "    <tr>\n",
       "      <th>1</th>\n",
       "      <td>Alaska</td>\n",
       "      <td>1992</td>\n",
       "      <td>1.176000e+05</td>\n",
       "      <td>1049591</td>\n",
       "      <td>972488</td>\n",
       "      <td>8450.0</td>\n",
       "      <td>587073.0</td>\n",
       "      <td>48253.235885</td>\n",
       "      <td>2.000250e+08</td>\n",
       "      <td>23938</td>\n",
       "      <td>28394.0</td>\n",
       "      <td>0.089167</td>\n",
       "    </tr>\n",
       "    <tr>\n",
       "      <th>2</th>\n",
       "      <td>Arizona</td>\n",
       "      <td>1992</td>\n",
       "      <td>6.390064e+05</td>\n",
       "      <td>3258079</td>\n",
       "      <td>3401580</td>\n",
       "      <td>4381.0</td>\n",
       "      <td>3867333.0</td>\n",
       "      <td>26972.352302</td>\n",
       "      <td>2.108240e+08</td>\n",
       "      <td>18129</td>\n",
       "      <td>235883.0</td>\n",
       "      <td>0.075417</td>\n",
       "    </tr>\n",
       "    <tr>\n",
       "      <th>3</th>\n",
       "      <td>Arkansas</td>\n",
       "      <td>1992</td>\n",
       "      <td>3.127418e+05</td>\n",
       "      <td>1711959</td>\n",
       "      <td>1743022</td>\n",
       "      <td>4031.0</td>\n",
       "      <td>2394098.0</td>\n",
       "      <td>33650.742025</td>\n",
       "      <td>1.255250e+08</td>\n",
       "      <td>16451</td>\n",
       "      <td>100069.0</td>\n",
       "      <td>0.070917</td>\n",
       "    </tr>\n",
       "    <tr>\n",
       "      <th>4</th>\n",
       "      <td>California</td>\n",
       "      <td>1992</td>\n",
       "      <td>8.496892e+06</td>\n",
       "      <td>26260025</td>\n",
       "      <td>27138832</td>\n",
       "      <td>4746.0</td>\n",
       "      <td>30875920.0</td>\n",
       "      <td>51439.890372</td>\n",
       "      <td>4.518418e+09</td>\n",
       "      <td>22644</td>\n",
       "      <td>1715360.0</td>\n",
       "      <td>0.093000</td>\n",
       "    </tr>\n",
       "  </tbody>\n",
       "</table>\n",
       "</div>"
      ],
      "text/plain": [
       "        state  year        enroll  total_revenue  total_expenditure  \\\n",
       "0     Alabama  1992  7.203800e+05        2678885            2653798   \n",
       "1      Alaska  1992  1.176000e+05        1049591             972488   \n",
       "2     Arizona  1992  6.390064e+05        3258079            3401580   \n",
       "3    Arkansas  1992  3.127418e+05        1711959            1743022   \n",
       "4  California  1992  8.496892e+06       26260025           27138832   \n",
       "\n",
       "   expenditure_per_pupil  population  gdp_per_capita  state_tax_collection  \\\n",
       "0                 3616.0   4139269.0    31568.187354          1.647790e+08   \n",
       "1                 8450.0    587073.0    48253.235885          2.000250e+08   \n",
       "2                 4381.0   3867333.0    26972.352302          2.108240e+08   \n",
       "3                 4031.0   2394098.0    33650.742025          1.255250e+08   \n",
       "4                 4746.0  30875920.0    51439.890372          4.518418e+09   \n",
       "\n",
       "   income_per_capita  known_property_crimes  unemployment_rate  \n",
       "0              17537               163966.0           0.075667  \n",
       "1              23938                28394.0           0.089167  \n",
       "2              18129               235883.0           0.075417  \n",
       "3              16451               100069.0           0.070917  \n",
       "4              22644              1715360.0           0.093000  "
      ]
     },
     "execution_count": 6,
     "metadata": {},
     "output_type": "execute_result"
    }
   ],
   "source": [
    "df.head()"
   ]
  },
  {
   "cell_type": "code",
   "execution_count": 7,
   "metadata": {},
   "outputs": [
    {
     "data": {
      "text/plain": [
       "state                      0\n",
       "year                       0\n",
       "enroll                     0\n",
       "total_revenue              0\n",
       "total_expenditure          0\n",
       "expenditure_per_pupil      0\n",
       "population                 0\n",
       "gdp_per_capita             0\n",
       "state_tax_collection     120\n",
       "income_per_capita          0\n",
       "known_property_crimes      0\n",
       "unemployment_rate          0\n",
       "dtype: int64"
      ]
     },
     "execution_count": 7,
     "metadata": {},
     "output_type": "execute_result"
    }
   ],
   "source": [
    "df.isnull().sum()"
   ]
  },
  {
   "cell_type": "markdown",
   "metadata": {},
   "source": [
    "# Drop State_Tax_Collection"
   ]
  },
  {
   "cell_type": "code",
   "execution_count": 8,
   "metadata": {},
   "outputs": [],
   "source": [
    "df =df.drop('state_tax_collection', axis = 1)"
   ]
  },
  {
   "cell_type": "code",
   "execution_count": 9,
   "metadata": {
    "scrolled": true
   },
   "outputs": [
    {
     "data": {
      "text/html": [
       "<div>\n",
       "<style scoped>\n",
       "    .dataframe tbody tr th:only-of-type {\n",
       "        vertical-align: middle;\n",
       "    }\n",
       "\n",
       "    .dataframe tbody tr th {\n",
       "        vertical-align: top;\n",
       "    }\n",
       "\n",
       "    .dataframe thead th {\n",
       "        text-align: right;\n",
       "    }\n",
       "</style>\n",
       "<table border=\"1\" class=\"dataframe\">\n",
       "  <thead>\n",
       "    <tr style=\"text-align: right;\">\n",
       "      <th></th>\n",
       "      <th>state</th>\n",
       "      <th>year</th>\n",
       "      <th>enroll</th>\n",
       "      <th>total_revenue</th>\n",
       "      <th>total_expenditure</th>\n",
       "      <th>expenditure_per_pupil</th>\n",
       "      <th>population</th>\n",
       "      <th>gdp_per_capita</th>\n",
       "      <th>income_per_capita</th>\n",
       "      <th>known_property_crimes</th>\n",
       "      <th>unemployment_rate</th>\n",
       "    </tr>\n",
       "  </thead>\n",
       "  <tbody>\n",
       "    <tr>\n",
       "      <th>0</th>\n",
       "      <td>Alabama</td>\n",
       "      <td>1992</td>\n",
       "      <td>7.203800e+05</td>\n",
       "      <td>2678885</td>\n",
       "      <td>2653798</td>\n",
       "      <td>3616.0</td>\n",
       "      <td>4139269.0</td>\n",
       "      <td>31568.187354</td>\n",
       "      <td>17537</td>\n",
       "      <td>163966.0</td>\n",
       "      <td>0.075667</td>\n",
       "    </tr>\n",
       "    <tr>\n",
       "      <th>1</th>\n",
       "      <td>Alaska</td>\n",
       "      <td>1992</td>\n",
       "      <td>1.176000e+05</td>\n",
       "      <td>1049591</td>\n",
       "      <td>972488</td>\n",
       "      <td>8450.0</td>\n",
       "      <td>587073.0</td>\n",
       "      <td>48253.235885</td>\n",
       "      <td>23938</td>\n",
       "      <td>28394.0</td>\n",
       "      <td>0.089167</td>\n",
       "    </tr>\n",
       "    <tr>\n",
       "      <th>2</th>\n",
       "      <td>Arizona</td>\n",
       "      <td>1992</td>\n",
       "      <td>6.390064e+05</td>\n",
       "      <td>3258079</td>\n",
       "      <td>3401580</td>\n",
       "      <td>4381.0</td>\n",
       "      <td>3867333.0</td>\n",
       "      <td>26972.352302</td>\n",
       "      <td>18129</td>\n",
       "      <td>235883.0</td>\n",
       "      <td>0.075417</td>\n",
       "    </tr>\n",
       "    <tr>\n",
       "      <th>3</th>\n",
       "      <td>Arkansas</td>\n",
       "      <td>1992</td>\n",
       "      <td>3.127418e+05</td>\n",
       "      <td>1711959</td>\n",
       "      <td>1743022</td>\n",
       "      <td>4031.0</td>\n",
       "      <td>2394098.0</td>\n",
       "      <td>33650.742025</td>\n",
       "      <td>16451</td>\n",
       "      <td>100069.0</td>\n",
       "      <td>0.070917</td>\n",
       "    </tr>\n",
       "    <tr>\n",
       "      <th>4</th>\n",
       "      <td>California</td>\n",
       "      <td>1992</td>\n",
       "      <td>8.496892e+06</td>\n",
       "      <td>26260025</td>\n",
       "      <td>27138832</td>\n",
       "      <td>4746.0</td>\n",
       "      <td>30875920.0</td>\n",
       "      <td>51439.890372</td>\n",
       "      <td>22644</td>\n",
       "      <td>1715360.0</td>\n",
       "      <td>0.093000</td>\n",
       "    </tr>\n",
       "  </tbody>\n",
       "</table>\n",
       "</div>"
      ],
      "text/plain": [
       "        state  year        enroll  total_revenue  total_expenditure  \\\n",
       "0     Alabama  1992  7.203800e+05        2678885            2653798   \n",
       "1      Alaska  1992  1.176000e+05        1049591             972488   \n",
       "2     Arizona  1992  6.390064e+05        3258079            3401580   \n",
       "3    Arkansas  1992  3.127418e+05        1711959            1743022   \n",
       "4  California  1992  8.496892e+06       26260025           27138832   \n",
       "\n",
       "   expenditure_per_pupil  population  gdp_per_capita  income_per_capita  \\\n",
       "0                 3616.0   4139269.0    31568.187354              17537   \n",
       "1                 8450.0    587073.0    48253.235885              23938   \n",
       "2                 4381.0   3867333.0    26972.352302              18129   \n",
       "3                 4031.0   2394098.0    33650.742025              16451   \n",
       "4                 4746.0  30875920.0    51439.890372              22644   \n",
       "\n",
       "   known_property_crimes  unemployment_rate  \n",
       "0               163966.0           0.075667  \n",
       "1                28394.0           0.089167  \n",
       "2               235883.0           0.075417  \n",
       "3               100069.0           0.070917  \n",
       "4              1715360.0           0.093000  "
      ]
     },
     "execution_count": 9,
     "metadata": {},
     "output_type": "execute_result"
    }
   ],
   "source": [
    "df.head()"
   ]
  },
  {
   "cell_type": "code",
   "execution_count": 10,
   "metadata": {},
   "outputs": [
    {
     "data": {
      "text/plain": [
       "state                    0\n",
       "year                     0\n",
       "enroll                   0\n",
       "total_revenue            0\n",
       "total_expenditure        0\n",
       "expenditure_per_pupil    0\n",
       "population               0\n",
       "gdp_per_capita           0\n",
       "income_per_capita        0\n",
       "known_property_crimes    0\n",
       "unemployment_rate        0\n",
       "dtype: int64"
      ]
     },
     "execution_count": 10,
     "metadata": {},
     "output_type": "execute_result"
    }
   ],
   "source": [
    "df.isnull().sum()"
   ]
  },
  {
   "cell_type": "code",
   "execution_count": 11,
   "metadata": {},
   "outputs": [],
   "source": [
    "#df.to_csv('./data/data_cleaned/combined_data_state_level_na_filled_from_1992.csv', index = False)"
   ]
  },
  {
   "cell_type": "code",
   "execution_count": null,
   "metadata": {},
   "outputs": [],
   "source": []
  }
 ],
 "metadata": {
  "kernelspec": {
   "display_name": "Python 3",
   "language": "python",
   "name": "python3"
  },
  "language_info": {
   "codemirror_mode": {
    "name": "ipython",
    "version": 3
   },
   "file_extension": ".py",
   "mimetype": "text/x-python",
   "name": "python",
   "nbconvert_exporter": "python",
   "pygments_lexer": "ipython3",
   "version": "3.6.5"
  }
 },
 "nbformat": 4,
 "nbformat_minor": 2
}
