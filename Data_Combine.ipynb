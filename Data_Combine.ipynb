{
 "cells": [
  {
   "cell_type": "code",
   "execution_count": 1,
   "metadata": {},
   "outputs": [],
   "source": [
    "import pandas as pd\n",
    "import matplotlib.pyplot as plt\n",
    "import seaborn as sns\n",
    "%matplotlib inline"
   ]
  },
  {
   "cell_type": "markdown",
   "metadata": {},
   "source": [
    "# List of Data to Combine"
   ]
  },
  {
   "cell_type": "markdown",
   "metadata": {},
   "source": [
    "+ usa_18_year_old_in_education_national.csv\n",
    "+ usa_edu_teach_stud_outcomes_state.csv\n",
    "+ usa_ele_sec_expenditure_percent_gov_states.csv\n",
    "+ usa_GDP_per_capita_state.csv\n",
    "+ usa_num_known_property_crimes_state.csv\n",
    "+ usa_per_capita_income_state.csv\n",
    "+ usa_population_state.csv\n",
    "+ usa_tax_collection_state.csv\n",
    "+ usa_unemployment_rate_state.csv\n",
    "+ usa_youth_access_to_edu_national.csv\n",
    "+ elsect_summary.csv"
   ]
  },
  {
   "cell_type": "markdown",
   "metadata": {},
   "source": [
    "# Data loading"
   ]
  },
  {
   "cell_type": "markdown",
   "metadata": {},
   "source": [
    "## Educational finance summary"
   ]
  },
  {
   "cell_type": "markdown",
   "metadata": {},
   "source": [
    "+ 1992 ~ 2015"
   ]
  },
  {
   "cell_type": "code",
   "execution_count": 2,
   "metadata": {},
   "outputs": [],
   "source": [
    "df0 = pd.read_csv('./data/data_raw/elsect_summary.csv')"
   ]
  },
  {
   "cell_type": "code",
   "execution_count": 3,
   "metadata": {},
   "outputs": [],
   "source": [
    "df0 = df0[['STATE', 'YEAR', 'ENROLL', 'TOTAL_REVENUE', 'TOTAL_EXPENDITURE']]\n"
   ]
  },
  {
   "cell_type": "code",
   "execution_count": 4,
   "metadata": {},
   "outputs": [],
   "source": [
    "df0.columns = ['State', 'Year', 'Enroll', 'Total_Revenue', 'Total_Expenditure']"
   ]
  },
  {
   "cell_type": "code",
   "execution_count": 5,
   "metadata": {},
   "outputs": [
    {
     "data": {
      "text/plain": [
       "array([1992, 1993, 1994, 1995, 1996, 1997, 1998, 1999, 2000, 2001, 2002,\n",
       "       2003, 2004, 2005, 2006, 2007, 2008, 2009, 2010, 2011, 2012, 2013,\n",
       "       2014, 2015])"
      ]
     },
     "execution_count": 5,
     "metadata": {},
     "output_type": "execute_result"
    }
   ],
   "source": [
    "df0.Year.unique()"
   ]
  },
  {
   "cell_type": "code",
   "execution_count": 6,
   "metadata": {},
   "outputs": [],
   "source": [
    "df= df0"
   ]
  },
  {
   "cell_type": "markdown",
   "metadata": {},
   "source": [
    "## usa_edu_teach_stud_outcomes_state"
   ]
  },
  {
   "cell_type": "code",
   "execution_count": 7,
   "metadata": {},
   "outputs": [],
   "source": [
    "df0 = pd.read_csv('./data/data_raw/usa_edu_teach_stud_outcomes_state.csv')"
   ]
  },
  {
   "cell_type": "code",
   "execution_count": 8,
   "metadata": {},
   "outputs": [
    {
     "data": {
      "text/html": [
       "<div>\n",
       "<style scoped>\n",
       "    .dataframe tbody tr th:only-of-type {\n",
       "        vertical-align: middle;\n",
       "    }\n",
       "\n",
       "    .dataframe tbody tr th {\n",
       "        vertical-align: top;\n",
       "    }\n",
       "\n",
       "    .dataframe thead th {\n",
       "        text-align: right;\n",
       "    }\n",
       "</style>\n",
       "<table border=\"1\" class=\"dataframe\">\n",
       "  <thead>\n",
       "    <tr style=\"text-align: right;\">\n",
       "      <th></th>\n",
       "      <th>region</th>\n",
       "      <th>indicator</th>\n",
       "      <th>Unit</th>\n",
       "      <th>Date</th>\n",
       "      <th>Value</th>\n",
       "    </tr>\n",
       "  </thead>\n",
       "  <tbody>\n",
       "    <tr>\n",
       "      <th>0</th>\n",
       "      <td>Alabama</td>\n",
       "      <td>18- to 24-Year-Olds Who Were High School Compl...</td>\n",
       "      <td>Percent</td>\n",
       "      <td>2000</td>\n",
       "      <td>72.247694</td>\n",
       "    </tr>\n",
       "    <tr>\n",
       "      <th>1</th>\n",
       "      <td>Alabama</td>\n",
       "      <td>18- to 24-Year-Olds Who Were High School Compl...</td>\n",
       "      <td>Percent</td>\n",
       "      <td>2009</td>\n",
       "      <td>79.927800</td>\n",
       "    </tr>\n",
       "    <tr>\n",
       "      <th>2</th>\n",
       "      <td>Alabama</td>\n",
       "      <td>18- to 24-Year-Olds Who Were High School Compl...</td>\n",
       "      <td>Percent</td>\n",
       "      <td>2011</td>\n",
       "      <td>81.830900</td>\n",
       "    </tr>\n",
       "    <tr>\n",
       "      <th>3</th>\n",
       "      <td>Alabama</td>\n",
       "      <td>18- to 24-Year-Olds Who Were High School Compl...</td>\n",
       "      <td>Percent</td>\n",
       "      <td>2012</td>\n",
       "      <td>84.477400</td>\n",
       "    </tr>\n",
       "    <tr>\n",
       "      <th>4</th>\n",
       "      <td>Alabama</td>\n",
       "      <td>18- to 24-Year-Olds Who Were High School Compl...</td>\n",
       "      <td>Percent</td>\n",
       "      <td>2013</td>\n",
       "      <td>81.905100</td>\n",
       "    </tr>\n",
       "  </tbody>\n",
       "</table>\n",
       "</div>"
      ],
      "text/plain": [
       "    region                                          indicator     Unit  Date  \\\n",
       "0  Alabama  18- to 24-Year-Olds Who Were High School Compl...  Percent  2000   \n",
       "1  Alabama  18- to 24-Year-Olds Who Were High School Compl...  Percent  2009   \n",
       "2  Alabama  18- to 24-Year-Olds Who Were High School Compl...  Percent  2011   \n",
       "3  Alabama  18- to 24-Year-Olds Who Were High School Compl...  Percent  2012   \n",
       "4  Alabama  18- to 24-Year-Olds Who Were High School Compl...  Percent  2013   \n",
       "\n",
       "       Value  \n",
       "0  72.247694  \n",
       "1  79.927800  \n",
       "2  81.830900  \n",
       "3  84.477400  \n",
       "4  81.905100  "
      ]
     },
     "execution_count": 8,
     "metadata": {},
     "output_type": "execute_result"
    }
   ],
   "source": [
    "df0.head()"
   ]
  },
  {
   "cell_type": "code",
   "execution_count": 9,
   "metadata": {},
   "outputs": [
    {
     "data": {
      "text/plain": [
       "array(['18- to 24-Year-Olds Who Were High School Completers',\n",
       "       \"Population 25 Years Old and Over Who Have Bachelor's or Higher Degree\",\n",
       "       'Enrollment in Public Elementary and Secondary Schools',\n",
       "       'Average Daily Attendance in Public Elementary and Secondary Schools',\n",
       "       'Public Elementary and Secondary Teachers',\n",
       "       'Pupil/Teacher Ratios in Public Elementary and Secondary Schools',\n",
       "       'Public High School Graduates',\n",
       "       'Current Expenditure per Pupil in Average Daily Attendance in Public Elementary and Secondary Schools'],\n",
       "      dtype=object)"
      ]
     },
     "execution_count": 9,
     "metadata": {},
     "output_type": "execute_result"
    }
   ],
   "source": [
    "df0.indicator.unique()"
   ]
  },
  {
   "cell_type": "markdown",
   "metadata": {},
   "source": [
    "enrollment data, missing 1991 ~1994 data, take from the other data set, **Drop**"
   ]
  },
  {
   "cell_type": "code",
   "execution_count": 10,
   "metadata": {},
   "outputs": [
    {
     "data": {
      "text/plain": [
       "array([1990, 1995, 2000, 2001, 2002, 2003, 2004, 2005, 2006, 2007, 2008,\n",
       "       2009, 2010, 2011, 2012, 2013, 2014, 2015, 2016])"
      ]
     },
     "execution_count": 10,
     "metadata": {},
     "output_type": "execute_result"
    }
   ],
   "source": [
    "df0[df0.indicator == 'Enrollment in Public Elementary and Secondary Schools'].Date.unique()"
   ]
  },
  {
   "cell_type": "code",
   "execution_count": 11,
   "metadata": {},
   "outputs": [],
   "source": [
    "df0 = df0[df0.indicator != 'Enrollment in Public Elementary and Secondary Schools']"
   ]
  },
  {
   "cell_type": "markdown",
   "metadata": {},
   "source": [
    "Average daily attendance in pub & ele schools, **NOT Complete**  *might be usefull* missing data 1991~1999, 2015"
   ]
  },
  {
   "cell_type": "code",
   "execution_count": 12,
   "metadata": {
    "scrolled": true
   },
   "outputs": [
    {
     "data": {
      "text/plain": [
       "array([1990, 2000, 2001, 2002, 2003, 2004, 2005, 2006, 2007, 2008, 2009,\n",
       "       2010, 2011, 2012, 2013, 2014])"
      ]
     },
     "execution_count": 12,
     "metadata": {},
     "output_type": "execute_result"
    }
   ],
   "source": [
    "df0[df0.indicator == 'Average Daily Attendance in Public Elementary and Secondary Schools'].Date.unique()"
   ]
  },
  {
   "cell_type": "markdown",
   "metadata": {},
   "source": [
    "Public Elementary and Secondary Teachers  **Drop**"
   ]
  },
  {
   "cell_type": "code",
   "execution_count": 13,
   "metadata": {
    "scrolled": true
   },
   "outputs": [
    {
     "data": {
      "text/plain": [
       "array([2000, 2005, 2007, 2008, 2009, 2010, 2011, 2012, 2013, 2014])"
      ]
     },
     "execution_count": 13,
     "metadata": {},
     "output_type": "execute_result"
    }
   ],
   "source": [
    "df0[df0.indicator== 'Public Elementary and Secondary Teachers'].Date.unique()"
   ]
  },
  {
   "cell_type": "code",
   "execution_count": 14,
   "metadata": {},
   "outputs": [],
   "source": [
    "df0 = df0[df0.indicator != 'Public Elementary and Secondary Teachers']"
   ]
  },
  {
   "cell_type": "markdown",
   "metadata": {},
   "source": [
    "'18- to 24-Year-Olds Who Were High School Completers', **Drop**"
   ]
  },
  {
   "cell_type": "code",
   "execution_count": 15,
   "metadata": {},
   "outputs": [
    {
     "data": {
      "text/plain": [
       "array([2000, 2009, 2011, 2012, 2013, 2014])"
      ]
     },
     "execution_count": 15,
     "metadata": {},
     "output_type": "execute_result"
    }
   ],
   "source": [
    "df0[df0.indicator == '18- to 24-Year-Olds Who Were High School Completers'].Date.unique()"
   ]
  },
  {
   "cell_type": "code",
   "execution_count": 16,
   "metadata": {},
   "outputs": [],
   "source": [
    "df0 = df0[df0.indicator != '18- to 24-Year-Olds Who Were High School Completers']"
   ]
  },
  {
   "cell_type": "markdown",
   "metadata": {},
   "source": [
    "\"Population 25 Years Old and Over Who Have Bachelor's or Higher Degree\", **Drop**"
   ]
  },
  {
   "cell_type": "code",
   "execution_count": 17,
   "metadata": {
    "scrolled": true
   },
   "outputs": [
    {
     "data": {
      "text/plain": [
       "array([2000, 2009, 2011, 2012, 2013, 2014])"
      ]
     },
     "execution_count": 17,
     "metadata": {},
     "output_type": "execute_result"
    }
   ],
   "source": [
    "df0[df0.indicator ==\"Population 25 Years Old and Over Who Have Bachelor's or Higher Degree\"].Date.unique()"
   ]
  },
  {
   "cell_type": "markdown",
   "metadata": {},
   "source": [
    "'Pupil/Teacher Ratios in Public Elementary and Secondary Schools', **Drop**"
   ]
  },
  {
   "cell_type": "code",
   "execution_count": 18,
   "metadata": {},
   "outputs": [],
   "source": [
    "df0 = df0[df0.indicator !=\"Population 25 Years Old and Over Who Have Bachelor's or Higher Degree\"]"
   ]
  },
  {
   "cell_type": "code",
   "execution_count": 19,
   "metadata": {},
   "outputs": [
    {
     "data": {
      "text/plain": [
       "array([2000, 2005, 2006, 2007, 2008, 2009, 2010, 2011, 2012, 2013, 2014])"
      ]
     },
     "execution_count": 19,
     "metadata": {},
     "output_type": "execute_result"
    }
   ],
   "source": [
    "df0[df0.indicator =='Pupil/Teacher Ratios in Public Elementary and Secondary Schools'].Date.unique()"
   ]
  },
  {
   "cell_type": "markdown",
   "metadata": {},
   "source": [
    "'Public High School Graduates' **NOT complete**, *Might be useful*"
   ]
  },
  {
   "cell_type": "code",
   "execution_count": 20,
   "metadata": {},
   "outputs": [
    {
     "data": {
      "text/plain": [
       "array([1990, 2000, 2004, 2005, 2006, 2007, 2008, 2009, 2010, 2011, 2012,\n",
       "       2013, 2014, 2015, 2016])"
      ]
     },
     "execution_count": 20,
     "metadata": {},
     "output_type": "execute_result"
    }
   ],
   "source": [
    "df0[df0.indicator == 'Public High School Graduates'].Date.unique()"
   ]
  },
  {
   "cell_type": "markdown",
   "metadata": {},
   "source": [
    "'Current Expenditure per Pupil in Average Daily Attendance in Public Elementary and Secondary Schools', **USE**"
   ]
  },
  {
   "cell_type": "code",
   "execution_count": 21,
   "metadata": {},
   "outputs": [
    {
     "data": {
      "text/plain": [
       "array([1990, 1991, 1992, 1993, 1994, 1995, 1996, 1997, 1998, 1999, 2000,\n",
       "       2001, 2002, 2003, 2004, 2005, 2006, 2007, 2008, 2009, 2010, 2011,\n",
       "       2012, 2013, 2014])"
      ]
     },
     "execution_count": 21,
     "metadata": {},
     "output_type": "execute_result"
    }
   ],
   "source": [
    "df0[df0.indicator == 'Current Expenditure per Pupil in Average Daily Attendance in Public Elementary and Secondary Schools'].Date.unique()"
   ]
  },
  {
   "cell_type": "code",
   "execution_count": 22,
   "metadata": {},
   "outputs": [
    {
     "data": {
      "text/html": [
       "<div>\n",
       "<style scoped>\n",
       "    .dataframe tbody tr th:only-of-type {\n",
       "        vertical-align: middle;\n",
       "    }\n",
       "\n",
       "    .dataframe tbody tr th {\n",
       "        vertical-align: top;\n",
       "    }\n",
       "\n",
       "    .dataframe thead th {\n",
       "        text-align: right;\n",
       "    }\n",
       "</style>\n",
       "<table border=\"1\" class=\"dataframe\">\n",
       "  <thead>\n",
       "    <tr style=\"text-align: right;\">\n",
       "      <th></th>\n",
       "      <th>region</th>\n",
       "      <th>indicator</th>\n",
       "      <th>Unit</th>\n",
       "      <th>Date</th>\n",
       "      <th>Value</th>\n",
       "    </tr>\n",
       "  </thead>\n",
       "  <tbody>\n",
       "    <tr>\n",
       "      <th>31</th>\n",
       "      <td>Alabama</td>\n",
       "      <td>Average Daily Attendance in Public Elementary ...</td>\n",
       "      <td>Number</td>\n",
       "      <td>1990</td>\n",
       "      <td>683833.0</td>\n",
       "    </tr>\n",
       "    <tr>\n",
       "      <th>32</th>\n",
       "      <td>Alabama</td>\n",
       "      <td>Average Daily Attendance in Public Elementary ...</td>\n",
       "      <td>Number</td>\n",
       "      <td>2000</td>\n",
       "      <td>725212.0</td>\n",
       "    </tr>\n",
       "    <tr>\n",
       "      <th>33</th>\n",
       "      <td>Alabama</td>\n",
       "      <td>Average Daily Attendance in Public Elementary ...</td>\n",
       "      <td>Number</td>\n",
       "      <td>2001</td>\n",
       "      <td>702423.0</td>\n",
       "    </tr>\n",
       "    <tr>\n",
       "      <th>34</th>\n",
       "      <td>Alabama</td>\n",
       "      <td>Average Daily Attendance in Public Elementary ...</td>\n",
       "      <td>Number</td>\n",
       "      <td>2002</td>\n",
       "      <td>701235.0</td>\n",
       "    </tr>\n",
       "    <tr>\n",
       "      <th>35</th>\n",
       "      <td>Alabama</td>\n",
       "      <td>Average Daily Attendance in Public Elementary ...</td>\n",
       "      <td>Number</td>\n",
       "      <td>2003</td>\n",
       "      <td>706446.0</td>\n",
       "    </tr>\n",
       "  </tbody>\n",
       "</table>\n",
       "</div>"
      ],
      "text/plain": [
       "     region                                          indicator    Unit  Date  \\\n",
       "31  Alabama  Average Daily Attendance in Public Elementary ...  Number  1990   \n",
       "32  Alabama  Average Daily Attendance in Public Elementary ...  Number  2000   \n",
       "33  Alabama  Average Daily Attendance in Public Elementary ...  Number  2001   \n",
       "34  Alabama  Average Daily Attendance in Public Elementary ...  Number  2002   \n",
       "35  Alabama  Average Daily Attendance in Public Elementary ...  Number  2003   \n",
       "\n",
       "       Value  \n",
       "31  683833.0  \n",
       "32  725212.0  \n",
       "33  702423.0  \n",
       "34  701235.0  \n",
       "35  706446.0  "
      ]
     },
     "execution_count": 22,
     "metadata": {},
     "output_type": "execute_result"
    }
   ],
   "source": [
    "df0.head()"
   ]
  },
  {
   "cell_type": "code",
   "execution_count": 23,
   "metadata": {},
   "outputs": [
    {
     "data": {
      "text/plain": [
       "array(['Alabama', 'Alaska', 'Arizona', 'Arkansas', 'California',\n",
       "       'Colorado', 'Connecticut', 'Delaware', 'District of Columbia',\n",
       "       'Florida', 'Georgia', 'Hawaii', 'Idaho', 'Illinois', 'Indiana',\n",
       "       'Iowa', 'Kansas', 'Kentucky', 'Louisiana', 'Maine', 'Maryland',\n",
       "       'Massachusetts', 'Michigan', 'Minnesota', 'Mississippi',\n",
       "       'Missouri', 'Montana', 'Nebraska', 'Nevada', 'New Hampshire',\n",
       "       'New Jersey', 'New Mexico', 'New York', 'North Carolina',\n",
       "       'North Dakota', 'Ohio', 'Oklahoma', 'Oregon', 'Pennsylvania',\n",
       "       'Rhode Island', 'South Carolina', 'South Dakota', 'Tennessee',\n",
       "       'Texas', 'Utah', 'Vermont', 'Virginia', 'Washington',\n",
       "       'West Virginia', 'Wisconsin', 'Wyoming'], dtype=object)"
      ]
     },
     "execution_count": 23,
     "metadata": {},
     "output_type": "execute_result"
    }
   ],
   "source": [
    "df0.region.unique()"
   ]
  },
  {
   "cell_type": "code",
   "execution_count": 24,
   "metadata": {},
   "outputs": [
    {
     "data": {
      "text/plain": [
       "array([ True,  True,  True,  True,  True,  True,  True,  True,  True,\n",
       "        True,  True,  True,  True,  True,  True,  True,  True,  True,\n",
       "        True,  True,  True,  True,  True,  True,  True,  True,  True,\n",
       "        True,  True,  True,  True,  True,  True,  True,  True,  True,\n",
       "        True,  True,  True,  True,  True,  True,  True,  True,  True,\n",
       "        True,  True,  True,  True,  True,  True])"
      ]
     },
     "execution_count": 24,
     "metadata": {},
     "output_type": "execute_result"
    }
   ],
   "source": [
    "df0.region.unique()  == df.State.unique()"
   ]
  },
  {
   "cell_type": "code",
   "execution_count": 25,
   "metadata": {},
   "outputs": [
    {
     "name": "stdout",
     "output_type": "stream",
     "text": [
      "<class 'pandas.core.frame.DataFrame'>\n",
      "RangeIndex: 1224 entries, 0 to 1223\n",
      "Data columns (total 8 columns):\n",
      "State                1224 non-null object\n",
      "Year                 1224 non-null int64\n",
      "Enroll               1173 non-null float64\n",
      "Total_Revenue        1224 non-null int64\n",
      "Total_Expenditure    1224 non-null int64\n",
      "indicator            1173 non-null object\n",
      "Unit                 1173 non-null object\n",
      "Value                1173 non-null float64\n",
      "dtypes: float64(2), int64(3), object(3)\n",
      "memory usage: 76.6+ KB\n"
     ]
    }
   ],
   "source": [
    "df = df.join(\n",
    "    df0[df0.indicator == 'Current Expenditure per Pupil in Average Daily Attendance in Public Elementary and Secondary Schools']\\\n",
    "    .set_index(['region', 'Date']), how= 'left',on = ['State', 'Year'])\n",
    "\n",
    "df.info()"
   ]
  },
  {
   "cell_type": "code",
   "execution_count": 26,
   "metadata": {},
   "outputs": [],
   "source": [
    "df = df.drop(['indicator', 'Unit'], axis = 1)\n",
    "\n",
    "df.columns = df.columns.str.replace('Value', 'Expenditure_Per_Pupil')"
   ]
  },
  {
   "cell_type": "code",
   "execution_count": 27,
   "metadata": {},
   "outputs": [
    {
     "data": {
      "text/html": [
       "<div>\n",
       "<style scoped>\n",
       "    .dataframe tbody tr th:only-of-type {\n",
       "        vertical-align: middle;\n",
       "    }\n",
       "\n",
       "    .dataframe tbody tr th {\n",
       "        vertical-align: top;\n",
       "    }\n",
       "\n",
       "    .dataframe thead th {\n",
       "        text-align: right;\n",
       "    }\n",
       "</style>\n",
       "<table border=\"1\" class=\"dataframe\">\n",
       "  <thead>\n",
       "    <tr style=\"text-align: right;\">\n",
       "      <th></th>\n",
       "      <th>State</th>\n",
       "      <th>Year</th>\n",
       "      <th>Enroll</th>\n",
       "      <th>Total_Revenue</th>\n",
       "      <th>Total_Expenditure</th>\n",
       "      <th>Expenditure_Per_Pupil</th>\n",
       "    </tr>\n",
       "  </thead>\n",
       "  <tbody>\n",
       "    <tr>\n",
       "      <th>0</th>\n",
       "      <td>Alabama</td>\n",
       "      <td>1992</td>\n",
       "      <td>NaN</td>\n",
       "      <td>2678885</td>\n",
       "      <td>2653798</td>\n",
       "      <td>3616.0</td>\n",
       "    </tr>\n",
       "    <tr>\n",
       "      <th>1</th>\n",
       "      <td>Alaska</td>\n",
       "      <td>1992</td>\n",
       "      <td>NaN</td>\n",
       "      <td>1049591</td>\n",
       "      <td>972488</td>\n",
       "      <td>8450.0</td>\n",
       "    </tr>\n",
       "    <tr>\n",
       "      <th>2</th>\n",
       "      <td>Arizona</td>\n",
       "      <td>1992</td>\n",
       "      <td>NaN</td>\n",
       "      <td>3258079</td>\n",
       "      <td>3401580</td>\n",
       "      <td>4381.0</td>\n",
       "    </tr>\n",
       "    <tr>\n",
       "      <th>3</th>\n",
       "      <td>Arkansas</td>\n",
       "      <td>1992</td>\n",
       "      <td>NaN</td>\n",
       "      <td>1711959</td>\n",
       "      <td>1743022</td>\n",
       "      <td>4031.0</td>\n",
       "    </tr>\n",
       "    <tr>\n",
       "      <th>4</th>\n",
       "      <td>California</td>\n",
       "      <td>1992</td>\n",
       "      <td>NaN</td>\n",
       "      <td>26260025</td>\n",
       "      <td>27138832</td>\n",
       "      <td>4746.0</td>\n",
       "    </tr>\n",
       "  </tbody>\n",
       "</table>\n",
       "</div>"
      ],
      "text/plain": [
       "        State  Year  Enroll  Total_Revenue  Total_Expenditure  \\\n",
       "0     Alabama  1992     NaN        2678885            2653798   \n",
       "1      Alaska  1992     NaN        1049591             972488   \n",
       "2     Arizona  1992     NaN        3258079            3401580   \n",
       "3    Arkansas  1992     NaN        1711959            1743022   \n",
       "4  California  1992     NaN       26260025           27138832   \n",
       "\n",
       "   Expenditure_Per_Pupil  \n",
       "0                 3616.0  \n",
       "1                 8450.0  \n",
       "2                 4381.0  \n",
       "3                 4031.0  \n",
       "4                 4746.0  "
      ]
     },
     "execution_count": 27,
     "metadata": {},
     "output_type": "execute_result"
    }
   ],
   "source": [
    "df.head()"
   ]
  },
  {
   "cell_type": "markdown",
   "metadata": {},
   "source": [
    "## usa_ele_sec_expenditure_percent_gov_states"
   ]
  },
  {
   "cell_type": "code",
   "execution_count": 28,
   "metadata": {},
   "outputs": [],
   "source": [
    "df0 = pd.read_csv('./data/data_raw/usa_ele_sec_expenditure_percent_gov_states.csv')"
   ]
  },
  {
   "cell_type": "markdown",
   "metadata": {},
   "source": [
    "** Might be useful** Not complete"
   ]
  },
  {
   "cell_type": "code",
   "execution_count": 29,
   "metadata": {},
   "outputs": [
    {
     "data": {
      "text/plain": [
       "array([1998, 1999, 2000, 2001, 2002, 2003, 2004, 2005, 2006, 2007, 2008,\n",
       "       2009, 2010, 2011, 2012, 2013, 2014, 2015, 2016])"
      ]
     },
     "execution_count": 29,
     "metadata": {},
     "output_type": "execute_result"
    }
   ],
   "source": [
    "df0.Date.unique()"
   ]
  },
  {
   "cell_type": "code",
   "execution_count": 30,
   "metadata": {},
   "outputs": [
    {
     "data": {
      "text/html": [
       "<div>\n",
       "<style scoped>\n",
       "    .dataframe tbody tr th:only-of-type {\n",
       "        vertical-align: middle;\n",
       "    }\n",
       "\n",
       "    .dataframe tbody tr th {\n",
       "        vertical-align: top;\n",
       "    }\n",
       "\n",
       "    .dataframe thead th {\n",
       "        text-align: right;\n",
       "    }\n",
       "</style>\n",
       "<table border=\"1\" class=\"dataframe\">\n",
       "  <thead>\n",
       "    <tr style=\"text-align: right;\">\n",
       "      <th></th>\n",
       "      <th>region</th>\n",
       "      <th>indicator</th>\n",
       "      <th>Unit</th>\n",
       "      <th>Date</th>\n",
       "      <th>Value</th>\n",
       "    </tr>\n",
       "  </thead>\n",
       "  <tbody>\n",
       "    <tr>\n",
       "      <th>0</th>\n",
       "      <td>Connecticut</td>\n",
       "      <td>Elementary and Secondary Education Expenditure...</td>\n",
       "      <td>%</td>\n",
       "      <td>1998</td>\n",
       "      <td>14.4</td>\n",
       "    </tr>\n",
       "    <tr>\n",
       "      <th>1</th>\n",
       "      <td>Connecticut</td>\n",
       "      <td>Elementary and Secondary Education Expenditure...</td>\n",
       "      <td>%</td>\n",
       "      <td>1999</td>\n",
       "      <td>15.2</td>\n",
       "    </tr>\n",
       "    <tr>\n",
       "      <th>2</th>\n",
       "      <td>Connecticut</td>\n",
       "      <td>Elementary and Secondary Education Expenditure...</td>\n",
       "      <td>%</td>\n",
       "      <td>2000</td>\n",
       "      <td>13.7</td>\n",
       "    </tr>\n",
       "    <tr>\n",
       "      <th>3</th>\n",
       "      <td>Connecticut</td>\n",
       "      <td>Elementary and Secondary Education Expenditure...</td>\n",
       "      <td>%</td>\n",
       "      <td>2001</td>\n",
       "      <td>13.6</td>\n",
       "    </tr>\n",
       "    <tr>\n",
       "      <th>4</th>\n",
       "      <td>Connecticut</td>\n",
       "      <td>Elementary and Secondary Education Expenditure...</td>\n",
       "      <td>%</td>\n",
       "      <td>2002</td>\n",
       "      <td>13.3</td>\n",
       "    </tr>\n",
       "  </tbody>\n",
       "</table>\n",
       "</div>"
      ],
      "text/plain": [
       "        region                                          indicator Unit  Date  \\\n",
       "0  Connecticut  Elementary and Secondary Education Expenditure...    %  1998   \n",
       "1  Connecticut  Elementary and Secondary Education Expenditure...    %  1999   \n",
       "2  Connecticut  Elementary and Secondary Education Expenditure...    %  2000   \n",
       "3  Connecticut  Elementary and Secondary Education Expenditure...    %  2001   \n",
       "4  Connecticut  Elementary and Secondary Education Expenditure...    %  2002   \n",
       "\n",
       "   Value  \n",
       "0   14.4  \n",
       "1   15.2  \n",
       "2   13.7  \n",
       "3   13.6  \n",
       "4   13.3  "
      ]
     },
     "execution_count": 30,
     "metadata": {},
     "output_type": "execute_result"
    }
   ],
   "source": [
    "df0.head()"
   ]
  },
  {
   "cell_type": "markdown",
   "metadata": {},
   "source": [
    "## usa_18_year_old_in_education_national"
   ]
  },
  {
   "cell_type": "code",
   "execution_count": 31,
   "metadata": {},
   "outputs": [],
   "source": [
    "df0 = pd.read_csv('./data/data_raw/usa_18_year_old_in_education_national.csv')"
   ]
  },
  {
   "cell_type": "markdown",
   "metadata": {},
   "source": [
    "**Drop**"
   ]
  },
  {
   "cell_type": "code",
   "execution_count": 32,
   "metadata": {},
   "outputs": [
    {
     "data": {
      "text/plain": [
       "array([2001, 2002, 2003, 2004, 2005, 2012])"
      ]
     },
     "execution_count": 32,
     "metadata": {},
     "output_type": "execute_result"
    }
   ],
   "source": [
    "df0.Date.unique()"
   ]
  },
  {
   "cell_type": "markdown",
   "metadata": {},
   "source": [
    "## usa_population_state.csv"
   ]
  },
  {
   "cell_type": "code",
   "execution_count": 33,
   "metadata": {},
   "outputs": [],
   "source": [
    "df0 = pd.read_csv('./data/data_raw/usa_population_state.csv')"
   ]
  },
  {
   "cell_type": "code",
   "execution_count": 34,
   "metadata": {},
   "outputs": [
    {
     "data": {
      "text/plain": [
       "51"
      ]
     },
     "execution_count": 34,
     "metadata": {},
     "output_type": "execute_result"
    }
   ],
   "source": [
    "len(df0.region.unique())"
   ]
  },
  {
   "cell_type": "code",
   "execution_count": 35,
   "metadata": {},
   "outputs": [
    {
     "data": {
      "text/html": [
       "<div>\n",
       "<style scoped>\n",
       "    .dataframe tbody tr th:only-of-type {\n",
       "        vertical-align: middle;\n",
       "    }\n",
       "\n",
       "    .dataframe tbody tr th {\n",
       "        vertical-align: top;\n",
       "    }\n",
       "\n",
       "    .dataframe thead th {\n",
       "        text-align: right;\n",
       "    }\n",
       "</style>\n",
       "<table border=\"1\" class=\"dataframe\">\n",
       "  <thead>\n",
       "    <tr style=\"text-align: right;\">\n",
       "      <th></th>\n",
       "      <th>region</th>\n",
       "      <th>series</th>\n",
       "      <th>Unit</th>\n",
       "      <th>Date</th>\n",
       "      <th>Value</th>\n",
       "    </tr>\n",
       "  </thead>\n",
       "  <tbody>\n",
       "    <tr>\n",
       "      <th>0</th>\n",
       "      <td>Alabama</td>\n",
       "      <td>Resident Population, NSA</td>\n",
       "      <td>Thous. of Persons</td>\n",
       "      <td>1992</td>\n",
       "      <td>4139.269</td>\n",
       "    </tr>\n",
       "    <tr>\n",
       "      <th>1</th>\n",
       "      <td>Alabama</td>\n",
       "      <td>Resident Population, NSA</td>\n",
       "      <td>Thous. of Persons</td>\n",
       "      <td>1993</td>\n",
       "      <td>4193.114</td>\n",
       "    </tr>\n",
       "    <tr>\n",
       "      <th>2</th>\n",
       "      <td>Alabama</td>\n",
       "      <td>Resident Population, NSA</td>\n",
       "      <td>Thous. of Persons</td>\n",
       "      <td>1994</td>\n",
       "      <td>4232.965</td>\n",
       "    </tr>\n",
       "    <tr>\n",
       "      <th>3</th>\n",
       "      <td>Alabama</td>\n",
       "      <td>Resident Population, NSA</td>\n",
       "      <td>Thous. of Persons</td>\n",
       "      <td>1995</td>\n",
       "      <td>4262.731</td>\n",
       "    </tr>\n",
       "    <tr>\n",
       "      <th>4</th>\n",
       "      <td>Alabama</td>\n",
       "      <td>Resident Population, NSA</td>\n",
       "      <td>Thous. of Persons</td>\n",
       "      <td>1996</td>\n",
       "      <td>4290.403</td>\n",
       "    </tr>\n",
       "  </tbody>\n",
       "</table>\n",
       "</div>"
      ],
      "text/plain": [
       "    region                    series               Unit  Date     Value\n",
       "0  Alabama  Resident Population, NSA  Thous. of Persons  1992  4139.269\n",
       "1  Alabama  Resident Population, NSA  Thous. of Persons  1993  4193.114\n",
       "2  Alabama  Resident Population, NSA  Thous. of Persons  1994  4232.965\n",
       "3  Alabama  Resident Population, NSA  Thous. of Persons  1995  4262.731\n",
       "4  Alabama  Resident Population, NSA  Thous. of Persons  1996  4290.403"
      ]
     },
     "execution_count": 35,
     "metadata": {},
     "output_type": "execute_result"
    }
   ],
   "source": [
    "df0.head()"
   ]
  },
  {
   "cell_type": "code",
   "execution_count": 36,
   "metadata": {},
   "outputs": [],
   "source": [
    "df0 = df0.drop(['series', 'Unit'], axis = 1)\n",
    "df0.Value = df0.Value * 1000"
   ]
  },
  {
   "cell_type": "code",
   "execution_count": 37,
   "metadata": {},
   "outputs": [
    {
     "data": {
      "text/html": [
       "<div>\n",
       "<style scoped>\n",
       "    .dataframe tbody tr th:only-of-type {\n",
       "        vertical-align: middle;\n",
       "    }\n",
       "\n",
       "    .dataframe tbody tr th {\n",
       "        vertical-align: top;\n",
       "    }\n",
       "\n",
       "    .dataframe thead th {\n",
       "        text-align: right;\n",
       "    }\n",
       "</style>\n",
       "<table border=\"1\" class=\"dataframe\">\n",
       "  <thead>\n",
       "    <tr style=\"text-align: right;\">\n",
       "      <th></th>\n",
       "      <th>region</th>\n",
       "      <th>Date</th>\n",
       "      <th>Value</th>\n",
       "    </tr>\n",
       "  </thead>\n",
       "  <tbody>\n",
       "    <tr>\n",
       "      <th>0</th>\n",
       "      <td>Alabama</td>\n",
       "      <td>1992</td>\n",
       "      <td>4139269.0</td>\n",
       "    </tr>\n",
       "    <tr>\n",
       "      <th>1</th>\n",
       "      <td>Alabama</td>\n",
       "      <td>1993</td>\n",
       "      <td>4193114.0</td>\n",
       "    </tr>\n",
       "    <tr>\n",
       "      <th>2</th>\n",
       "      <td>Alabama</td>\n",
       "      <td>1994</td>\n",
       "      <td>4232965.0</td>\n",
       "    </tr>\n",
       "    <tr>\n",
       "      <th>3</th>\n",
       "      <td>Alabama</td>\n",
       "      <td>1995</td>\n",
       "      <td>4262731.0</td>\n",
       "    </tr>\n",
       "    <tr>\n",
       "      <th>4</th>\n",
       "      <td>Alabama</td>\n",
       "      <td>1996</td>\n",
       "      <td>4290403.0</td>\n",
       "    </tr>\n",
       "  </tbody>\n",
       "</table>\n",
       "</div>"
      ],
      "text/plain": [
       "    region  Date      Value\n",
       "0  Alabama  1992  4139269.0\n",
       "1  Alabama  1993  4193114.0\n",
       "2  Alabama  1994  4232965.0\n",
       "3  Alabama  1995  4262731.0\n",
       "4  Alabama  1996  4290403.0"
      ]
     },
     "execution_count": 37,
     "metadata": {},
     "output_type": "execute_result"
    }
   ],
   "source": [
    "df0.head()"
   ]
  },
  {
   "cell_type": "markdown",
   "metadata": {},
   "source": [
    "Take care of different state names:  \n",
    "District of Columbia, DC ---> District of Columbia  \n",
    "New York (States) --- > New York"
   ]
  },
  {
   "cell_type": "code",
   "execution_count": 38,
   "metadata": {},
   "outputs": [
    {
     "data": {
      "text/plain": [
       "array(['Alabama', 'Alaska', 'Arizona', 'Arkansas', 'California',\n",
       "       'Colorado', 'Connecticut', 'Delaware', 'District of Columbia, DC',\n",
       "       'Florida', 'Georgia', 'Hawaii', 'Idaho', 'Illinois', 'Indiana',\n",
       "       'Iowa', 'Kansas', 'Kentucky', 'Louisiana', 'Maine', 'Maryland',\n",
       "       'Massachusetts', 'Michigan', 'Minnesota', 'Mississippi',\n",
       "       'Missouri', 'Montana', 'Nebraska', 'Nevada', 'New Hampshire',\n",
       "       'New Jersey', 'New Mexico', 'New York (States)', 'North Carolina',\n",
       "       'North Dakota', 'Ohio', 'Oklahoma', 'Oregon', 'Pennsylvania',\n",
       "       'Rhode Island', 'South Carolina', 'South Dakota', 'Tennessee',\n",
       "       'Texas', 'Utah', 'Vermont', 'Virginia', 'Washington',\n",
       "       'West Virginia', 'Wisconsin', 'Wyoming'], dtype=object)"
      ]
     },
     "execution_count": 38,
     "metadata": {},
     "output_type": "execute_result"
    }
   ],
   "source": [
    "df0.region.unique()"
   ]
  },
  {
   "cell_type": "code",
   "execution_count": 39,
   "metadata": {},
   "outputs": [
    {
     "data": {
      "text/plain": [
       "array(['Alabama', 'Alaska', 'Arizona', 'Arkansas', 'California',\n",
       "       'Colorado', 'Connecticut', 'Delaware', 'District of Columbia',\n",
       "       'Florida', 'Georgia', 'Hawaii', 'Idaho', 'Illinois', 'Indiana',\n",
       "       'Iowa', 'Kansas', 'Kentucky', 'Louisiana', 'Maine', 'Maryland',\n",
       "       'Massachusetts', 'Michigan', 'Minnesota', 'Mississippi',\n",
       "       'Missouri', 'Montana', 'Nebraska', 'Nevada', 'New Hampshire',\n",
       "       'New Jersey', 'New Mexico', 'New York', 'North Carolina',\n",
       "       'North Dakota', 'Ohio', 'Oklahoma', 'Oregon', 'Pennsylvania',\n",
       "       'Rhode Island', 'South Carolina', 'South Dakota', 'Tennessee',\n",
       "       'Texas', 'Utah', 'Vermont', 'Virginia', 'Washington',\n",
       "       'West Virginia', 'Wisconsin', 'Wyoming'], dtype=object)"
      ]
     },
     "execution_count": 39,
     "metadata": {},
     "output_type": "execute_result"
    }
   ],
   "source": [
    "df.State.unique()"
   ]
  },
  {
   "cell_type": "code",
   "execution_count": 40,
   "metadata": {},
   "outputs": [],
   "source": [
    "df0.region = df0.region.str.replace('District of Columbia, DC', 'District of Columbia')\n",
    "df0.region = df0.region.str.replace('New York \\(States\\)', 'New York')"
   ]
  },
  {
   "cell_type": "code",
   "execution_count": 41,
   "metadata": {},
   "outputs": [
    {
     "data": {
      "text/plain": [
       "array(['Alabama', 'Alaska', 'Arizona', 'Arkansas', 'California',\n",
       "       'Colorado', 'Connecticut', 'Delaware', 'District of Columbia',\n",
       "       'Florida', 'Georgia', 'Hawaii', 'Idaho', 'Illinois', 'Indiana',\n",
       "       'Iowa', 'Kansas', 'Kentucky', 'Louisiana', 'Maine', 'Maryland',\n",
       "       'Massachusetts', 'Michigan', 'Minnesota', 'Mississippi',\n",
       "       'Missouri', 'Montana', 'Nebraska', 'Nevada', 'New Hampshire',\n",
       "       'New Jersey', 'New Mexico', 'New York', 'North Carolina',\n",
       "       'North Dakota', 'Ohio', 'Oklahoma', 'Oregon', 'Pennsylvania',\n",
       "       'Rhode Island', 'South Carolina', 'South Dakota', 'Tennessee',\n",
       "       'Texas', 'Utah', 'Vermont', 'Virginia', 'Washington',\n",
       "       'West Virginia', 'Wisconsin', 'Wyoming'], dtype=object)"
      ]
     },
     "execution_count": 41,
     "metadata": {},
     "output_type": "execute_result"
    }
   ],
   "source": [
    "df0.region.unique()"
   ]
  },
  {
   "cell_type": "code",
   "execution_count": 42,
   "metadata": {},
   "outputs": [],
   "source": [
    "df = df.join(df0.set_index(['region', 'Date']), how= 'left',on = ['State', 'Year'])"
   ]
  },
  {
   "cell_type": "code",
   "execution_count": 43,
   "metadata": {},
   "outputs": [],
   "source": [
    "df.columns = df.columns.str.replace('Value', 'Population')"
   ]
  },
  {
   "cell_type": "code",
   "execution_count": 44,
   "metadata": {},
   "outputs": [
    {
     "data": {
      "text/html": [
       "<div>\n",
       "<style scoped>\n",
       "    .dataframe tbody tr th:only-of-type {\n",
       "        vertical-align: middle;\n",
       "    }\n",
       "\n",
       "    .dataframe tbody tr th {\n",
       "        vertical-align: top;\n",
       "    }\n",
       "\n",
       "    .dataframe thead th {\n",
       "        text-align: right;\n",
       "    }\n",
       "</style>\n",
       "<table border=\"1\" class=\"dataframe\">\n",
       "  <thead>\n",
       "    <tr style=\"text-align: right;\">\n",
       "      <th></th>\n",
       "      <th>State</th>\n",
       "      <th>Year</th>\n",
       "      <th>Enroll</th>\n",
       "      <th>Total_Revenue</th>\n",
       "      <th>Total_Expenditure</th>\n",
       "      <th>Expenditure_Per_Pupil</th>\n",
       "      <th>Population</th>\n",
       "    </tr>\n",
       "  </thead>\n",
       "  <tbody>\n",
       "    <tr>\n",
       "      <th>0</th>\n",
       "      <td>Alabama</td>\n",
       "      <td>1992</td>\n",
       "      <td>NaN</td>\n",
       "      <td>2678885</td>\n",
       "      <td>2653798</td>\n",
       "      <td>3616.0</td>\n",
       "      <td>4139269.0</td>\n",
       "    </tr>\n",
       "    <tr>\n",
       "      <th>1</th>\n",
       "      <td>Alaska</td>\n",
       "      <td>1992</td>\n",
       "      <td>NaN</td>\n",
       "      <td>1049591</td>\n",
       "      <td>972488</td>\n",
       "      <td>8450.0</td>\n",
       "      <td>587073.0</td>\n",
       "    </tr>\n",
       "    <tr>\n",
       "      <th>2</th>\n",
       "      <td>Arizona</td>\n",
       "      <td>1992</td>\n",
       "      <td>NaN</td>\n",
       "      <td>3258079</td>\n",
       "      <td>3401580</td>\n",
       "      <td>4381.0</td>\n",
       "      <td>3867333.0</td>\n",
       "    </tr>\n",
       "    <tr>\n",
       "      <th>3</th>\n",
       "      <td>Arkansas</td>\n",
       "      <td>1992</td>\n",
       "      <td>NaN</td>\n",
       "      <td>1711959</td>\n",
       "      <td>1743022</td>\n",
       "      <td>4031.0</td>\n",
       "      <td>2394098.0</td>\n",
       "    </tr>\n",
       "    <tr>\n",
       "      <th>4</th>\n",
       "      <td>California</td>\n",
       "      <td>1992</td>\n",
       "      <td>NaN</td>\n",
       "      <td>26260025</td>\n",
       "      <td>27138832</td>\n",
       "      <td>4746.0</td>\n",
       "      <td>30875920.0</td>\n",
       "    </tr>\n",
       "  </tbody>\n",
       "</table>\n",
       "</div>"
      ],
      "text/plain": [
       "        State  Year  Enroll  Total_Revenue  Total_Expenditure  \\\n",
       "0     Alabama  1992     NaN        2678885            2653798   \n",
       "1      Alaska  1992     NaN        1049591             972488   \n",
       "2     Arizona  1992     NaN        3258079            3401580   \n",
       "3    Arkansas  1992     NaN        1711959            1743022   \n",
       "4  California  1992     NaN       26260025           27138832   \n",
       "\n",
       "   Expenditure_Per_Pupil  Population  \n",
       "0                 3616.0   4139269.0  \n",
       "1                 8450.0    587073.0  \n",
       "2                 4381.0   3867333.0  \n",
       "3                 4031.0   2394098.0  \n",
       "4                 4746.0  30875920.0  "
      ]
     },
     "execution_count": 44,
     "metadata": {},
     "output_type": "execute_result"
    }
   ],
   "source": [
    "df.head()"
   ]
  },
  {
   "cell_type": "code",
   "execution_count": 45,
   "metadata": {},
   "outputs": [
    {
     "data": {
      "text/plain": [
       "State                     0\n",
       "Year                      0\n",
       "Enroll                   51\n",
       "Total_Revenue             0\n",
       "Total_Expenditure         0\n",
       "Expenditure_Per_Pupil    51\n",
       "Population                0\n",
       "dtype: int64"
      ]
     },
     "execution_count": 45,
     "metadata": {},
     "output_type": "execute_result"
    }
   ],
   "source": [
    "df.isnull().sum()"
   ]
  },
  {
   "cell_type": "code",
   "execution_count": null,
   "metadata": {},
   "outputs": [],
   "source": []
  },
  {
   "cell_type": "markdown",
   "metadata": {},
   "source": [
    "## usa_GDP_per_capita_state"
   ]
  },
  {
   "cell_type": "markdown",
   "metadata": {},
   "source": [
    "+ Per capita read GDP by state\n",
    "+ All industry total\n",
    "+ chained 2009 dollars"
   ]
  },
  {
   "cell_type": "code",
   "execution_count": 46,
   "metadata": {},
   "outputs": [],
   "source": [
    "df0 = pd.read_csv('./data/data_raw/usa_GDP_per_capita_state.csv')"
   ]
  },
  {
   "cell_type": "code",
   "execution_count": 47,
   "metadata": {},
   "outputs": [
    {
     "data": {
      "text/plain": [
       "array([1997, 1998, 1999, 2000, 2001, 2002, 2003, 2004, 2005, 2006, 2007,\n",
       "       2008, 2009, 2010, 2011, 2012, 2013, 2014, 2015, 2016])"
      ]
     },
     "execution_count": 47,
     "metadata": {},
     "output_type": "execute_result"
    }
   ],
   "source": [
    "df0.Date.unique()"
   ]
  },
  {
   "cell_type": "code",
   "execution_count": 48,
   "metadata": {},
   "outputs": [
    {
     "data": {
      "text/html": [
       "<div>\n",
       "<style scoped>\n",
       "    .dataframe tbody tr th:only-of-type {\n",
       "        vertical-align: middle;\n",
       "    }\n",
       "\n",
       "    .dataframe tbody tr th {\n",
       "        vertical-align: top;\n",
       "    }\n",
       "\n",
       "    .dataframe thead th {\n",
       "        text-align: right;\n",
       "    }\n",
       "</style>\n",
       "<table border=\"1\" class=\"dataframe\">\n",
       "  <thead>\n",
       "    <tr style=\"text-align: right;\">\n",
       "      <th></th>\n",
       "      <th>classification</th>\n",
       "      <th>state</th>\n",
       "      <th>component</th>\n",
       "      <th>industry</th>\n",
       "      <th>Unit</th>\n",
       "      <th>Date</th>\n",
       "      <th>Value</th>\n",
       "    </tr>\n",
       "  </thead>\n",
       "  <tbody>\n",
       "    <tr>\n",
       "      <th>0</th>\n",
       "      <td>NAICS</td>\n",
       "      <td>Connecticut</td>\n",
       "      <td>Per capita real GDP by state</td>\n",
       "      <td>All industry total</td>\n",
       "      <td>chained 2009 dollars</td>\n",
       "      <td>1997</td>\n",
       "      <td>54740</td>\n",
       "    </tr>\n",
       "    <tr>\n",
       "      <th>1</th>\n",
       "      <td>NAICS</td>\n",
       "      <td>Connecticut</td>\n",
       "      <td>Per capita real GDP by state</td>\n",
       "      <td>All industry total</td>\n",
       "      <td>chained 2009 dollars</td>\n",
       "      <td>1998</td>\n",
       "      <td>56416</td>\n",
       "    </tr>\n",
       "    <tr>\n",
       "      <th>2</th>\n",
       "      <td>NAICS</td>\n",
       "      <td>Connecticut</td>\n",
       "      <td>Per capita real GDP by state</td>\n",
       "      <td>All industry total</td>\n",
       "      <td>chained 2009 dollars</td>\n",
       "      <td>1999</td>\n",
       "      <td>57724</td>\n",
       "    </tr>\n",
       "    <tr>\n",
       "      <th>3</th>\n",
       "      <td>NAICS</td>\n",
       "      <td>Connecticut</td>\n",
       "      <td>Per capita real GDP by state</td>\n",
       "      <td>All industry total</td>\n",
       "      <td>chained 2009 dollars</td>\n",
       "      <td>2000</td>\n",
       "      <td>61355</td>\n",
       "    </tr>\n",
       "    <tr>\n",
       "      <th>4</th>\n",
       "      <td>NAICS</td>\n",
       "      <td>Connecticut</td>\n",
       "      <td>Per capita real GDP by state</td>\n",
       "      <td>All industry total</td>\n",
       "      <td>chained 2009 dollars</td>\n",
       "      <td>2001</td>\n",
       "      <td>61872</td>\n",
       "    </tr>\n",
       "  </tbody>\n",
       "</table>\n",
       "</div>"
      ],
      "text/plain": [
       "  classification        state                     component  \\\n",
       "0          NAICS  Connecticut  Per capita real GDP by state   \n",
       "1          NAICS  Connecticut  Per capita real GDP by state   \n",
       "2          NAICS  Connecticut  Per capita real GDP by state   \n",
       "3          NAICS  Connecticut  Per capita real GDP by state   \n",
       "4          NAICS  Connecticut  Per capita real GDP by state   \n",
       "\n",
       "             industry                  Unit  Date  Value  \n",
       "0  All industry total  chained 2009 dollars  1997  54740  \n",
       "1  All industry total  chained 2009 dollars  1998  56416  \n",
       "2  All industry total  chained 2009 dollars  1999  57724  \n",
       "3  All industry total  chained 2009 dollars  2000  61355  \n",
       "4  All industry total  chained 2009 dollars  2001  61872  "
      ]
     },
     "execution_count": 48,
     "metadata": {},
     "output_type": "execute_result"
    }
   ],
   "source": [
    "df0.head()"
   ]
  },
  {
   "cell_type": "code",
   "execution_count": 49,
   "metadata": {},
   "outputs": [],
   "source": [
    "df = df.join(df0[['state', 'Date', 'Value']].set_index(['state', 'Date']), on = ['State', 'Year'], how = 'left')"
   ]
  },
  {
   "cell_type": "code",
   "execution_count": 50,
   "metadata": {},
   "outputs": [
    {
     "data": {
      "text/html": [
       "<div>\n",
       "<style scoped>\n",
       "    .dataframe tbody tr th:only-of-type {\n",
       "        vertical-align: middle;\n",
       "    }\n",
       "\n",
       "    .dataframe tbody tr th {\n",
       "        vertical-align: top;\n",
       "    }\n",
       "\n",
       "    .dataframe thead th {\n",
       "        text-align: right;\n",
       "    }\n",
       "</style>\n",
       "<table border=\"1\" class=\"dataframe\">\n",
       "  <thead>\n",
       "    <tr style=\"text-align: right;\">\n",
       "      <th></th>\n",
       "      <th>State</th>\n",
       "      <th>Year</th>\n",
       "      <th>Enroll</th>\n",
       "      <th>Total_Revenue</th>\n",
       "      <th>Total_Expenditure</th>\n",
       "      <th>Expenditure_Per_Pupil</th>\n",
       "      <th>Population</th>\n",
       "      <th>GDP_Per_Capita</th>\n",
       "    </tr>\n",
       "  </thead>\n",
       "  <tbody>\n",
       "    <tr>\n",
       "      <th>0</th>\n",
       "      <td>Alabama</td>\n",
       "      <td>1992</td>\n",
       "      <td>NaN</td>\n",
       "      <td>2678885</td>\n",
       "      <td>2653798</td>\n",
       "      <td>3616.0</td>\n",
       "      <td>4139269.0</td>\n",
       "      <td>NaN</td>\n",
       "    </tr>\n",
       "    <tr>\n",
       "      <th>1</th>\n",
       "      <td>Alaska</td>\n",
       "      <td>1992</td>\n",
       "      <td>NaN</td>\n",
       "      <td>1049591</td>\n",
       "      <td>972488</td>\n",
       "      <td>8450.0</td>\n",
       "      <td>587073.0</td>\n",
       "      <td>NaN</td>\n",
       "    </tr>\n",
       "    <tr>\n",
       "      <th>2</th>\n",
       "      <td>Arizona</td>\n",
       "      <td>1992</td>\n",
       "      <td>NaN</td>\n",
       "      <td>3258079</td>\n",
       "      <td>3401580</td>\n",
       "      <td>4381.0</td>\n",
       "      <td>3867333.0</td>\n",
       "      <td>NaN</td>\n",
       "    </tr>\n",
       "    <tr>\n",
       "      <th>3</th>\n",
       "      <td>Arkansas</td>\n",
       "      <td>1992</td>\n",
       "      <td>NaN</td>\n",
       "      <td>1711959</td>\n",
       "      <td>1743022</td>\n",
       "      <td>4031.0</td>\n",
       "      <td>2394098.0</td>\n",
       "      <td>NaN</td>\n",
       "    </tr>\n",
       "    <tr>\n",
       "      <th>4</th>\n",
       "      <td>California</td>\n",
       "      <td>1992</td>\n",
       "      <td>NaN</td>\n",
       "      <td>26260025</td>\n",
       "      <td>27138832</td>\n",
       "      <td>4746.0</td>\n",
       "      <td>30875920.0</td>\n",
       "      <td>NaN</td>\n",
       "    </tr>\n",
       "  </tbody>\n",
       "</table>\n",
       "</div>"
      ],
      "text/plain": [
       "        State  Year  Enroll  Total_Revenue  Total_Expenditure  \\\n",
       "0     Alabama  1992     NaN        2678885            2653798   \n",
       "1      Alaska  1992     NaN        1049591             972488   \n",
       "2     Arizona  1992     NaN        3258079            3401580   \n",
       "3    Arkansas  1992     NaN        1711959            1743022   \n",
       "4  California  1992     NaN       26260025           27138832   \n",
       "\n",
       "   Expenditure_Per_Pupil  Population  GDP_Per_Capita  \n",
       "0                 3616.0   4139269.0             NaN  \n",
       "1                 8450.0    587073.0             NaN  \n",
       "2                 4381.0   3867333.0             NaN  \n",
       "3                 4031.0   2394098.0             NaN  \n",
       "4                 4746.0  30875920.0             NaN  "
      ]
     },
     "execution_count": 50,
     "metadata": {},
     "output_type": "execute_result"
    }
   ],
   "source": [
    "df.columns = df.columns.str.replace('Value', 'GDP_Per_Capita')\n",
    "df.head()"
   ]
  },
  {
   "cell_type": "markdown",
   "metadata": {},
   "source": [
    "## usa_tax_collection_state.csv"
   ]
  },
  {
   "cell_type": "code",
   "execution_count": 51,
   "metadata": {},
   "outputs": [],
   "source": [
    "df0 = pd.read_csv('./data/data_raw/usa_tax_collection_state.csv')"
   ]
  },
  {
   "cell_type": "code",
   "execution_count": 52,
   "metadata": {},
   "outputs": [
    {
     "data": {
      "text/plain": [
       "array([1992, 1993, 1994, 1995, 1996, 1997, 1998, 1999, 2000, 2001, 2002,\n",
       "       2003, 2004, 2005, 2006, 2007, 2008, 2009, 2010, 2011, 2012, 2013,\n",
       "       2014, 2015, 2016])"
      ]
     },
     "execution_count": 52,
     "metadata": {},
     "output_type": "execute_result"
    }
   ],
   "source": [
    "df0.Date.unique()"
   ]
  },
  {
   "cell_type": "code",
   "execution_count": 53,
   "metadata": {},
   "outputs": [
    {
     "data": {
      "text/plain": [
       "46"
      ]
     },
     "execution_count": 53,
     "metadata": {},
     "output_type": "execute_result"
    }
   ],
   "source": [
    "len(df0.region.unique())"
   ]
  },
  {
   "cell_type": "code",
   "execution_count": 54,
   "metadata": {
    "scrolled": true
   },
   "outputs": [
    {
     "data": {
      "text/plain": [
       "array(['Alabama', 'Alaska', 'Arizona', 'Arkansas', 'California',\n",
       "       'Colorado', 'Connecticut', 'Delaware', 'Florida', 'Georgia',\n",
       "       'Hawaii', 'Idaho', 'Illinois', 'Indiana', 'Iowa', 'Kansas',\n",
       "       'Kentucky', 'Louisiana', 'Maine', 'Maryland', 'Massachusetts',\n",
       "       'Michigan', 'Minnesota', 'Mississippi', 'Missouri', 'Montana',\n",
       "       'Nebraska', 'New Hampshire', 'New Jersey', 'New Mexico',\n",
       "       'New York (States)', 'North Carolina', 'North Dakota', 'Ohio',\n",
       "       'Oklahoma', 'Oregon', 'Pennsylvania', 'Rhode Island',\n",
       "       'South Carolina', 'South Dakota', 'Tennessee', 'Utah', 'Vermont',\n",
       "       'Virginia', 'West Virginia', 'Wisconsin'], dtype=object)"
      ]
     },
     "execution_count": 54,
     "metadata": {},
     "output_type": "execute_result"
    }
   ],
   "source": [
    "df0.region.unique() \n"
   ]
  },
  {
   "cell_type": "code",
   "execution_count": 55,
   "metadata": {},
   "outputs": [
    {
     "data": {
      "text/plain": [
       "array(['Alabama', 'Alaska', 'Arizona', 'Arkansas', 'California',\n",
       "       'Colorado', 'Connecticut', 'Delaware', 'District of Columbia',\n",
       "       'Florida', 'Georgia', 'Hawaii', 'Idaho', 'Illinois', 'Indiana',\n",
       "       'Iowa', 'Kansas', 'Kentucky', 'Louisiana', 'Maine', 'Maryland',\n",
       "       'Massachusetts', 'Michigan', 'Minnesota', 'Mississippi',\n",
       "       'Missouri', 'Montana', 'Nebraska', 'Nevada', 'New Hampshire',\n",
       "       'New Jersey', 'New Mexico', 'New York', 'North Carolina',\n",
       "       'North Dakota', 'Ohio', 'Oklahoma', 'Oregon', 'Pennsylvania',\n",
       "       'Rhode Island', 'South Carolina', 'South Dakota', 'Tennessee',\n",
       "       'Texas', 'Utah', 'Vermont', 'Virginia', 'Washington',\n",
       "       'West Virginia', 'Wisconsin', 'Wyoming'], dtype=object)"
      ]
     },
     "execution_count": 55,
     "metadata": {},
     "output_type": "execute_result"
    }
   ],
   "source": [
    "df.State.unique()"
   ]
  },
  {
   "cell_type": "code",
   "execution_count": 56,
   "metadata": {},
   "outputs": [
    {
     "data": {
      "text/html": [
       "<div>\n",
       "<style scoped>\n",
       "    .dataframe tbody tr th:only-of-type {\n",
       "        vertical-align: middle;\n",
       "    }\n",
       "\n",
       "    .dataframe tbody tr th {\n",
       "        vertical-align: top;\n",
       "    }\n",
       "\n",
       "    .dataframe thead th {\n",
       "        text-align: right;\n",
       "    }\n",
       "</style>\n",
       "<table border=\"1\" class=\"dataframe\">\n",
       "  <thead>\n",
       "    <tr style=\"text-align: right;\">\n",
       "      <th></th>\n",
       "      <th>region</th>\n",
       "      <th>series</th>\n",
       "      <th>Unit</th>\n",
       "      <th>Date</th>\n",
       "      <th>Value</th>\n",
       "    </tr>\n",
       "  </thead>\n",
       "  <tbody>\n",
       "    <tr>\n",
       "      <th>0</th>\n",
       "      <td>Alabama</td>\n",
       "      <td>State Government Tax Collections, Corporation ...</td>\n",
       "      <td>Thous. of $</td>\n",
       "      <td>1992</td>\n",
       "      <td>164779</td>\n",
       "    </tr>\n",
       "    <tr>\n",
       "      <th>1</th>\n",
       "      <td>Alabama</td>\n",
       "      <td>State Government Tax Collections, Corporation ...</td>\n",
       "      <td>Thous. of $</td>\n",
       "      <td>1993</td>\n",
       "      <td>189506</td>\n",
       "    </tr>\n",
       "    <tr>\n",
       "      <th>2</th>\n",
       "      <td>Alabama</td>\n",
       "      <td>State Government Tax Collections, Corporation ...</td>\n",
       "      <td>Thous. of $</td>\n",
       "      <td>1994</td>\n",
       "      <td>218131</td>\n",
       "    </tr>\n",
       "    <tr>\n",
       "      <th>3</th>\n",
       "      <td>Alabama</td>\n",
       "      <td>State Government Tax Collections, Corporation ...</td>\n",
       "      <td>Thous. of $</td>\n",
       "      <td>1995</td>\n",
       "      <td>236279</td>\n",
       "    </tr>\n",
       "    <tr>\n",
       "      <th>4</th>\n",
       "      <td>Alabama</td>\n",
       "      <td>State Government Tax Collections, Corporation ...</td>\n",
       "      <td>Thous. of $</td>\n",
       "      <td>1996</td>\n",
       "      <td>217616</td>\n",
       "    </tr>\n",
       "  </tbody>\n",
       "</table>\n",
       "</div>"
      ],
      "text/plain": [
       "    region                                             series         Unit  \\\n",
       "0  Alabama  State Government Tax Collections, Corporation ...  Thous. of $   \n",
       "1  Alabama  State Government Tax Collections, Corporation ...  Thous. of $   \n",
       "2  Alabama  State Government Tax Collections, Corporation ...  Thous. of $   \n",
       "3  Alabama  State Government Tax Collections, Corporation ...  Thous. of $   \n",
       "4  Alabama  State Government Tax Collections, Corporation ...  Thous. of $   \n",
       "\n",
       "   Date   Value  \n",
       "0  1992  164779  \n",
       "1  1993  189506  \n",
       "2  1994  218131  \n",
       "3  1995  236279  \n",
       "4  1996  217616  "
      ]
     },
     "execution_count": 56,
     "metadata": {},
     "output_type": "execute_result"
    }
   ],
   "source": [
    "df0.head()"
   ]
  },
  {
   "cell_type": "code",
   "execution_count": 57,
   "metadata": {},
   "outputs": [],
   "source": [
    "df0.region = df0.region.str.replace('District of Columbia, DC', 'District of Columbia')\n",
    "df0.region = df0.region.str.replace('New York \\(States\\)', 'New York')"
   ]
  },
  {
   "cell_type": "code",
   "execution_count": 58,
   "metadata": {},
   "outputs": [],
   "source": [
    "df0.Value = df0.Value * 1000"
   ]
  },
  {
   "cell_type": "code",
   "execution_count": 59,
   "metadata": {},
   "outputs": [
    {
     "data": {
      "text/html": [
       "<div>\n",
       "<style scoped>\n",
       "    .dataframe tbody tr th:only-of-type {\n",
       "        vertical-align: middle;\n",
       "    }\n",
       "\n",
       "    .dataframe tbody tr th {\n",
       "        vertical-align: top;\n",
       "    }\n",
       "\n",
       "    .dataframe thead th {\n",
       "        text-align: right;\n",
       "    }\n",
       "</style>\n",
       "<table border=\"1\" class=\"dataframe\">\n",
       "  <thead>\n",
       "    <tr style=\"text-align: right;\">\n",
       "      <th></th>\n",
       "      <th>State</th>\n",
       "      <th>Year</th>\n",
       "      <th>Enroll</th>\n",
       "      <th>Total_Revenue</th>\n",
       "      <th>Total_Expenditure</th>\n",
       "      <th>Expenditure_Per_Pupil</th>\n",
       "      <th>Population</th>\n",
       "      <th>GDP_Per_Capita</th>\n",
       "      <th>State_Tax_Collection</th>\n",
       "    </tr>\n",
       "  </thead>\n",
       "  <tbody>\n",
       "    <tr>\n",
       "      <th>0</th>\n",
       "      <td>Alabama</td>\n",
       "      <td>1992</td>\n",
       "      <td>NaN</td>\n",
       "      <td>2678885</td>\n",
       "      <td>2653798</td>\n",
       "      <td>3616.0</td>\n",
       "      <td>4139269.0</td>\n",
       "      <td>NaN</td>\n",
       "      <td>1.647790e+08</td>\n",
       "    </tr>\n",
       "    <tr>\n",
       "      <th>1</th>\n",
       "      <td>Alaska</td>\n",
       "      <td>1992</td>\n",
       "      <td>NaN</td>\n",
       "      <td>1049591</td>\n",
       "      <td>972488</td>\n",
       "      <td>8450.0</td>\n",
       "      <td>587073.0</td>\n",
       "      <td>NaN</td>\n",
       "      <td>2.000250e+08</td>\n",
       "    </tr>\n",
       "    <tr>\n",
       "      <th>2</th>\n",
       "      <td>Arizona</td>\n",
       "      <td>1992</td>\n",
       "      <td>NaN</td>\n",
       "      <td>3258079</td>\n",
       "      <td>3401580</td>\n",
       "      <td>4381.0</td>\n",
       "      <td>3867333.0</td>\n",
       "      <td>NaN</td>\n",
       "      <td>2.108240e+08</td>\n",
       "    </tr>\n",
       "    <tr>\n",
       "      <th>3</th>\n",
       "      <td>Arkansas</td>\n",
       "      <td>1992</td>\n",
       "      <td>NaN</td>\n",
       "      <td>1711959</td>\n",
       "      <td>1743022</td>\n",
       "      <td>4031.0</td>\n",
       "      <td>2394098.0</td>\n",
       "      <td>NaN</td>\n",
       "      <td>1.255250e+08</td>\n",
       "    </tr>\n",
       "    <tr>\n",
       "      <th>4</th>\n",
       "      <td>California</td>\n",
       "      <td>1992</td>\n",
       "      <td>NaN</td>\n",
       "      <td>26260025</td>\n",
       "      <td>27138832</td>\n",
       "      <td>4746.0</td>\n",
       "      <td>30875920.0</td>\n",
       "      <td>NaN</td>\n",
       "      <td>4.518418e+09</td>\n",
       "    </tr>\n",
       "  </tbody>\n",
       "</table>\n",
       "</div>"
      ],
      "text/plain": [
       "        State  Year  Enroll  Total_Revenue  Total_Expenditure  \\\n",
       "0     Alabama  1992     NaN        2678885            2653798   \n",
       "1      Alaska  1992     NaN        1049591             972488   \n",
       "2     Arizona  1992     NaN        3258079            3401580   \n",
       "3    Arkansas  1992     NaN        1711959            1743022   \n",
       "4  California  1992     NaN       26260025           27138832   \n",
       "\n",
       "   Expenditure_Per_Pupil  Population  GDP_Per_Capita  State_Tax_Collection  \n",
       "0                 3616.0   4139269.0             NaN          1.647790e+08  \n",
       "1                 8450.0    587073.0             NaN          2.000250e+08  \n",
       "2                 4381.0   3867333.0             NaN          2.108240e+08  \n",
       "3                 4031.0   2394098.0             NaN          1.255250e+08  \n",
       "4                 4746.0  30875920.0             NaN          4.518418e+09  "
      ]
     },
     "execution_count": 59,
     "metadata": {},
     "output_type": "execute_result"
    }
   ],
   "source": [
    "df = df.join(df0[['region', 'Date', 'Value']].set_index(['region', 'Date']), how = 'left', on = ['State', 'Year'])\n",
    "df.columns = df.columns.str.replace('Value', 'State_Tax_Collection')\n",
    "df.head()"
   ]
  },
  {
   "cell_type": "markdown",
   "metadata": {},
   "source": [
    "## usa_per_capita_income_state.csv"
   ]
  },
  {
   "cell_type": "code",
   "execution_count": 60,
   "metadata": {},
   "outputs": [],
   "source": [
    "df0 = pd.read_csv('./data/data_raw/usa_per_capita_income_state.csv')"
   ]
  },
  {
   "cell_type": "code",
   "execution_count": 61,
   "metadata": {},
   "outputs": [
    {
     "data": {
      "text/html": [
       "<div>\n",
       "<style scoped>\n",
       "    .dataframe tbody tr th:only-of-type {\n",
       "        vertical-align: middle;\n",
       "    }\n",
       "\n",
       "    .dataframe tbody tr th {\n",
       "        vertical-align: top;\n",
       "    }\n",
       "\n",
       "    .dataframe thead th {\n",
       "        text-align: right;\n",
       "    }\n",
       "</style>\n",
       "<table border=\"1\" class=\"dataframe\">\n",
       "  <thead>\n",
       "    <tr style=\"text-align: right;\">\n",
       "      <th></th>\n",
       "      <th>region</th>\n",
       "      <th>series</th>\n",
       "      <th>Unit</th>\n",
       "      <th>Date</th>\n",
       "      <th>Value</th>\n",
       "    </tr>\n",
       "  </thead>\n",
       "  <tbody>\n",
       "    <tr>\n",
       "      <th>0</th>\n",
       "      <td>Alabama</td>\n",
       "      <td>Per Capita Personal Income, NSA</td>\n",
       "      <td>$</td>\n",
       "      <td>1992</td>\n",
       "      <td>17537</td>\n",
       "    </tr>\n",
       "    <tr>\n",
       "      <th>1</th>\n",
       "      <td>Alabama</td>\n",
       "      <td>Per Capita Personal Income, NSA</td>\n",
       "      <td>$</td>\n",
       "      <td>1993</td>\n",
       "      <td>18082</td>\n",
       "    </tr>\n",
       "    <tr>\n",
       "      <th>2</th>\n",
       "      <td>Alabama</td>\n",
       "      <td>Per Capita Personal Income, NSA</td>\n",
       "      <td>$</td>\n",
       "      <td>1994</td>\n",
       "      <td>18938</td>\n",
       "    </tr>\n",
       "    <tr>\n",
       "      <th>3</th>\n",
       "      <td>Alabama</td>\n",
       "      <td>Per Capita Personal Income, NSA</td>\n",
       "      <td>$</td>\n",
       "      <td>1995</td>\n",
       "      <td>19866</td>\n",
       "    </tr>\n",
       "    <tr>\n",
       "      <th>4</th>\n",
       "      <td>Alabama</td>\n",
       "      <td>Per Capita Personal Income, NSA</td>\n",
       "      <td>$</td>\n",
       "      <td>1996</td>\n",
       "      <td>20569</td>\n",
       "    </tr>\n",
       "  </tbody>\n",
       "</table>\n",
       "</div>"
      ],
      "text/plain": [
       "    region                           series Unit  Date  Value\n",
       "0  Alabama  Per Capita Personal Income, NSA    $  1992  17537\n",
       "1  Alabama  Per Capita Personal Income, NSA    $  1993  18082\n",
       "2  Alabama  Per Capita Personal Income, NSA    $  1994  18938\n",
       "3  Alabama  Per Capita Personal Income, NSA    $  1995  19866\n",
       "4  Alabama  Per Capita Personal Income, NSA    $  1996  20569"
      ]
     },
     "execution_count": 61,
     "metadata": {},
     "output_type": "execute_result"
    }
   ],
   "source": [
    "df0.head()"
   ]
  },
  {
   "cell_type": "code",
   "execution_count": 62,
   "metadata": {},
   "outputs": [],
   "source": [
    "df0.region = df0.region.str.replace('District of Columbia, DC', 'District of Columbia')\n",
    "df0.region = df0.region.str.replace('New York \\(States\\)', 'New York')"
   ]
  },
  {
   "cell_type": "code",
   "execution_count": 63,
   "metadata": {},
   "outputs": [
    {
     "data": {
      "text/html": [
       "<div>\n",
       "<style scoped>\n",
       "    .dataframe tbody tr th:only-of-type {\n",
       "        vertical-align: middle;\n",
       "    }\n",
       "\n",
       "    .dataframe tbody tr th {\n",
       "        vertical-align: top;\n",
       "    }\n",
       "\n",
       "    .dataframe thead th {\n",
       "        text-align: right;\n",
       "    }\n",
       "</style>\n",
       "<table border=\"1\" class=\"dataframe\">\n",
       "  <thead>\n",
       "    <tr style=\"text-align: right;\">\n",
       "      <th></th>\n",
       "      <th>State</th>\n",
       "      <th>Year</th>\n",
       "      <th>Enroll</th>\n",
       "      <th>Total_Revenue</th>\n",
       "      <th>Total_Expenditure</th>\n",
       "      <th>Expenditure_Per_Pupil</th>\n",
       "      <th>Population</th>\n",
       "      <th>GDP_Per_Capita</th>\n",
       "      <th>State_Tax_Collection</th>\n",
       "      <th>Income_Per_Capita</th>\n",
       "    </tr>\n",
       "  </thead>\n",
       "  <tbody>\n",
       "    <tr>\n",
       "      <th>0</th>\n",
       "      <td>Alabama</td>\n",
       "      <td>1992</td>\n",
       "      <td>NaN</td>\n",
       "      <td>2678885</td>\n",
       "      <td>2653798</td>\n",
       "      <td>3616.0</td>\n",
       "      <td>4139269.0</td>\n",
       "      <td>NaN</td>\n",
       "      <td>1.647790e+08</td>\n",
       "      <td>17537</td>\n",
       "    </tr>\n",
       "    <tr>\n",
       "      <th>1</th>\n",
       "      <td>Alaska</td>\n",
       "      <td>1992</td>\n",
       "      <td>NaN</td>\n",
       "      <td>1049591</td>\n",
       "      <td>972488</td>\n",
       "      <td>8450.0</td>\n",
       "      <td>587073.0</td>\n",
       "      <td>NaN</td>\n",
       "      <td>2.000250e+08</td>\n",
       "      <td>23938</td>\n",
       "    </tr>\n",
       "    <tr>\n",
       "      <th>2</th>\n",
       "      <td>Arizona</td>\n",
       "      <td>1992</td>\n",
       "      <td>NaN</td>\n",
       "      <td>3258079</td>\n",
       "      <td>3401580</td>\n",
       "      <td>4381.0</td>\n",
       "      <td>3867333.0</td>\n",
       "      <td>NaN</td>\n",
       "      <td>2.108240e+08</td>\n",
       "      <td>18129</td>\n",
       "    </tr>\n",
       "    <tr>\n",
       "      <th>3</th>\n",
       "      <td>Arkansas</td>\n",
       "      <td>1992</td>\n",
       "      <td>NaN</td>\n",
       "      <td>1711959</td>\n",
       "      <td>1743022</td>\n",
       "      <td>4031.0</td>\n",
       "      <td>2394098.0</td>\n",
       "      <td>NaN</td>\n",
       "      <td>1.255250e+08</td>\n",
       "      <td>16451</td>\n",
       "    </tr>\n",
       "    <tr>\n",
       "      <th>4</th>\n",
       "      <td>California</td>\n",
       "      <td>1992</td>\n",
       "      <td>NaN</td>\n",
       "      <td>26260025</td>\n",
       "      <td>27138832</td>\n",
       "      <td>4746.0</td>\n",
       "      <td>30875920.0</td>\n",
       "      <td>NaN</td>\n",
       "      <td>4.518418e+09</td>\n",
       "      <td>22644</td>\n",
       "    </tr>\n",
       "  </tbody>\n",
       "</table>\n",
       "</div>"
      ],
      "text/plain": [
       "        State  Year  Enroll  Total_Revenue  Total_Expenditure  \\\n",
       "0     Alabama  1992     NaN        2678885            2653798   \n",
       "1      Alaska  1992     NaN        1049591             972488   \n",
       "2     Arizona  1992     NaN        3258079            3401580   \n",
       "3    Arkansas  1992     NaN        1711959            1743022   \n",
       "4  California  1992     NaN       26260025           27138832   \n",
       "\n",
       "   Expenditure_Per_Pupil  Population  GDP_Per_Capita  State_Tax_Collection  \\\n",
       "0                 3616.0   4139269.0             NaN          1.647790e+08   \n",
       "1                 8450.0    587073.0             NaN          2.000250e+08   \n",
       "2                 4381.0   3867333.0             NaN          2.108240e+08   \n",
       "3                 4031.0   2394098.0             NaN          1.255250e+08   \n",
       "4                 4746.0  30875920.0             NaN          4.518418e+09   \n",
       "\n",
       "   Income_Per_Capita  \n",
       "0              17537  \n",
       "1              23938  \n",
       "2              18129  \n",
       "3              16451  \n",
       "4              22644  "
      ]
     },
     "execution_count": 63,
     "metadata": {},
     "output_type": "execute_result"
    }
   ],
   "source": [
    "df = df.join(df0[['region', 'Date', 'Value']].set_index(['region', 'Date']), how = 'left', on = ['State', 'Year'])\n",
    "df.columns  = df.columns.str.replace('Value', 'Income_Per_Capita')\n",
    "df.head()"
   ]
  },
  {
   "cell_type": "markdown",
   "metadata": {},
   "source": [
    "## usa_num_known_property_crimes_state"
   ]
  },
  {
   "cell_type": "code",
   "execution_count": 64,
   "metadata": {},
   "outputs": [],
   "source": [
    "df0 = pd.read_csv('./data/data_raw/usa_num_known_property_crimes_state.csv')"
   ]
  },
  {
   "cell_type": "code",
   "execution_count": 65,
   "metadata": {},
   "outputs": [
    {
     "data": {
      "text/plain": [
       "array([1990, 1991, 1992, 1993, 1994, 1995, 1996, 1997, 1998, 1999, 2000,\n",
       "       2001, 2002, 2003, 2004, 2005, 2006, 2007, 2008, 2009, 2010, 2011,\n",
       "       2012, 2013, 2014, 2015, 2016])"
      ]
     },
     "execution_count": 65,
     "metadata": {},
     "output_type": "execute_result"
    }
   ],
   "source": [
    "df0.Date.unique()"
   ]
  },
  {
   "cell_type": "markdown",
   "metadata": {},
   "source": [
    "take care of name :  \n",
    "'District Of Columbia' -- > 'District of Columbia'"
   ]
  },
  {
   "cell_type": "code",
   "execution_count": 66,
   "metadata": {},
   "outputs": [
    {
     "data": {
      "text/plain": [
       "array(['Alabama', 'Alaska', 'Arizona', 'Arkansas', 'California',\n",
       "       'Colorado', 'Connecticut', 'Delaware', 'District Of Columbia',\n",
       "       'Florida', 'Georgia', 'Hawaii', 'Idaho', 'Illinois', 'Indiana',\n",
       "       'Iowa', 'Kansas', 'Kentucky', 'Louisiana', 'Maine', 'Maryland',\n",
       "       'Massachusetts', 'Michigan', 'Minnesota', 'Mississippi',\n",
       "       'Missouri', 'Montana', 'Nebraska', 'Nevada', 'New Hampshire',\n",
       "       'New Jersey', 'New Mexico', 'New York', 'North Carolina',\n",
       "       'North Dakota', 'Ohio', 'Oklahoma', 'Oregon', 'Pennsylvania',\n",
       "       'Rhode Island', 'South Carolina', 'South Dakota', 'Tennessee',\n",
       "       'Texas', 'Utah', 'Vermont', 'Virginia', 'Washington',\n",
       "       'West Virginia', 'Wisconsin', 'Wyoming'], dtype=object)"
      ]
     },
     "execution_count": 66,
     "metadata": {},
     "output_type": "execute_result"
    }
   ],
   "source": [
    "df0.location.unique()"
   ]
  },
  {
   "cell_type": "code",
   "execution_count": 67,
   "metadata": {},
   "outputs": [
    {
     "data": {
      "text/plain": [
       "array(['Alabama', 'Alaska', 'Arizona', 'Arkansas', 'California',\n",
       "       'Colorado', 'Connecticut', 'Delaware', 'District of Columbia',\n",
       "       'Florida', 'Georgia', 'Hawaii', 'Idaho', 'Illinois', 'Indiana',\n",
       "       'Iowa', 'Kansas', 'Kentucky', 'Louisiana', 'Maine', 'Maryland',\n",
       "       'Massachusetts', 'Michigan', 'Minnesota', 'Mississippi',\n",
       "       'Missouri', 'Montana', 'Nebraska', 'Nevada', 'New Hampshire',\n",
       "       'New Jersey', 'New Mexico', 'New York', 'North Carolina',\n",
       "       'North Dakota', 'Ohio', 'Oklahoma', 'Oregon', 'Pennsylvania',\n",
       "       'Rhode Island', 'South Carolina', 'South Dakota', 'Tennessee',\n",
       "       'Texas', 'Utah', 'Vermont', 'Virginia', 'Washington',\n",
       "       'West Virginia', 'Wisconsin', 'Wyoming'], dtype=object)"
      ]
     },
     "execution_count": 67,
     "metadata": {},
     "output_type": "execute_result"
    }
   ],
   "source": [
    "df.State.unique()"
   ]
  },
  {
   "cell_type": "code",
   "execution_count": 68,
   "metadata": {},
   "outputs": [],
   "source": [
    "df0.location = df0.location.str.replace('District Of Columbia', 'District of Columbia')"
   ]
  },
  {
   "cell_type": "code",
   "execution_count": 69,
   "metadata": {},
   "outputs": [
    {
     "data": {
      "text/html": [
       "<div>\n",
       "<style scoped>\n",
       "    .dataframe tbody tr th:only-of-type {\n",
       "        vertical-align: middle;\n",
       "    }\n",
       "\n",
       "    .dataframe tbody tr th {\n",
       "        vertical-align: top;\n",
       "    }\n",
       "\n",
       "    .dataframe thead th {\n",
       "        text-align: right;\n",
       "    }\n",
       "</style>\n",
       "<table border=\"1\" class=\"dataframe\">\n",
       "  <thead>\n",
       "    <tr style=\"text-align: right;\">\n",
       "      <th></th>\n",
       "      <th>location</th>\n",
       "      <th>indicator</th>\n",
       "      <th>Unit</th>\n",
       "      <th>Date</th>\n",
       "      <th>Value</th>\n",
       "    </tr>\n",
       "  </thead>\n",
       "  <tbody>\n",
       "    <tr>\n",
       "      <th>0</th>\n",
       "      <td>Alabama</td>\n",
       "      <td>Number of Property Crimes Known to Police</td>\n",
       "      <td>numbers</td>\n",
       "      <td>1990</td>\n",
       "      <td>161838</td>\n",
       "    </tr>\n",
       "    <tr>\n",
       "      <th>1</th>\n",
       "      <td>Alabama</td>\n",
       "      <td>Number of Property Crimes Known to Police</td>\n",
       "      <td>numbers</td>\n",
       "      <td>1991</td>\n",
       "      <td>168864</td>\n",
       "    </tr>\n",
       "    <tr>\n",
       "      <th>2</th>\n",
       "      <td>Alabama</td>\n",
       "      <td>Number of Property Crimes Known to Police</td>\n",
       "      <td>numbers</td>\n",
       "      <td>1992</td>\n",
       "      <td>163966</td>\n",
       "    </tr>\n",
       "    <tr>\n",
       "      <th>3</th>\n",
       "      <td>Alabama</td>\n",
       "      <td>Number of Property Crimes Known to Police</td>\n",
       "      <td>numbers</td>\n",
       "      <td>1993</td>\n",
       "      <td>168182</td>\n",
       "    </tr>\n",
       "    <tr>\n",
       "      <th>4</th>\n",
       "      <td>Alabama</td>\n",
       "      <td>Number of Property Crimes Known to Police</td>\n",
       "      <td>numbers</td>\n",
       "      <td>1994</td>\n",
       "      <td>174589</td>\n",
       "    </tr>\n",
       "  </tbody>\n",
       "</table>\n",
       "</div>"
      ],
      "text/plain": [
       "  location                                  indicator     Unit  Date   Value\n",
       "0  Alabama  Number of Property Crimes Known to Police  numbers  1990  161838\n",
       "1  Alabama  Number of Property Crimes Known to Police  numbers  1991  168864\n",
       "2  Alabama  Number of Property Crimes Known to Police  numbers  1992  163966\n",
       "3  Alabama  Number of Property Crimes Known to Police  numbers  1993  168182\n",
       "4  Alabama  Number of Property Crimes Known to Police  numbers  1994  174589"
      ]
     },
     "execution_count": 69,
     "metadata": {},
     "output_type": "execute_result"
    }
   ],
   "source": [
    "df0.head()"
   ]
  },
  {
   "cell_type": "code",
   "execution_count": 70,
   "metadata": {},
   "outputs": [
    {
     "data": {
      "text/html": [
       "<div>\n",
       "<style scoped>\n",
       "    .dataframe tbody tr th:only-of-type {\n",
       "        vertical-align: middle;\n",
       "    }\n",
       "\n",
       "    .dataframe tbody tr th {\n",
       "        vertical-align: top;\n",
       "    }\n",
       "\n",
       "    .dataframe thead th {\n",
       "        text-align: right;\n",
       "    }\n",
       "</style>\n",
       "<table border=\"1\" class=\"dataframe\">\n",
       "  <thead>\n",
       "    <tr style=\"text-align: right;\">\n",
       "      <th></th>\n",
       "      <th>State</th>\n",
       "      <th>Year</th>\n",
       "      <th>Enroll</th>\n",
       "      <th>Total_Revenue</th>\n",
       "      <th>Total_Expenditure</th>\n",
       "      <th>Expenditure_Per_Pupil</th>\n",
       "      <th>Population</th>\n",
       "      <th>GDP_Per_Capita</th>\n",
       "      <th>State_Tax_Collection</th>\n",
       "      <th>Income_Per_Capita</th>\n",
       "      <th>Known_Property_Crimes</th>\n",
       "    </tr>\n",
       "  </thead>\n",
       "  <tbody>\n",
       "    <tr>\n",
       "      <th>0</th>\n",
       "      <td>Alabama</td>\n",
       "      <td>1992</td>\n",
       "      <td>NaN</td>\n",
       "      <td>2678885</td>\n",
       "      <td>2653798</td>\n",
       "      <td>3616.0</td>\n",
       "      <td>4139269.0</td>\n",
       "      <td>NaN</td>\n",
       "      <td>1.647790e+08</td>\n",
       "      <td>17537</td>\n",
       "      <td>163966.0</td>\n",
       "    </tr>\n",
       "    <tr>\n",
       "      <th>1</th>\n",
       "      <td>Alaska</td>\n",
       "      <td>1992</td>\n",
       "      <td>NaN</td>\n",
       "      <td>1049591</td>\n",
       "      <td>972488</td>\n",
       "      <td>8450.0</td>\n",
       "      <td>587073.0</td>\n",
       "      <td>NaN</td>\n",
       "      <td>2.000250e+08</td>\n",
       "      <td>23938</td>\n",
       "      <td>28394.0</td>\n",
       "    </tr>\n",
       "    <tr>\n",
       "      <th>2</th>\n",
       "      <td>Arizona</td>\n",
       "      <td>1992</td>\n",
       "      <td>NaN</td>\n",
       "      <td>3258079</td>\n",
       "      <td>3401580</td>\n",
       "      <td>4381.0</td>\n",
       "      <td>3867333.0</td>\n",
       "      <td>NaN</td>\n",
       "      <td>2.108240e+08</td>\n",
       "      <td>18129</td>\n",
       "      <td>235883.0</td>\n",
       "    </tr>\n",
       "    <tr>\n",
       "      <th>3</th>\n",
       "      <td>Arkansas</td>\n",
       "      <td>1992</td>\n",
       "      <td>NaN</td>\n",
       "      <td>1711959</td>\n",
       "      <td>1743022</td>\n",
       "      <td>4031.0</td>\n",
       "      <td>2394098.0</td>\n",
       "      <td>NaN</td>\n",
       "      <td>1.255250e+08</td>\n",
       "      <td>16451</td>\n",
       "      <td>100069.0</td>\n",
       "    </tr>\n",
       "    <tr>\n",
       "      <th>4</th>\n",
       "      <td>California</td>\n",
       "      <td>1992</td>\n",
       "      <td>NaN</td>\n",
       "      <td>26260025</td>\n",
       "      <td>27138832</td>\n",
       "      <td>4746.0</td>\n",
       "      <td>30875920.0</td>\n",
       "      <td>NaN</td>\n",
       "      <td>4.518418e+09</td>\n",
       "      <td>22644</td>\n",
       "      <td>1715360.0</td>\n",
       "    </tr>\n",
       "  </tbody>\n",
       "</table>\n",
       "</div>"
      ],
      "text/plain": [
       "        State  Year  Enroll  Total_Revenue  Total_Expenditure  \\\n",
       "0     Alabama  1992     NaN        2678885            2653798   \n",
       "1      Alaska  1992     NaN        1049591             972488   \n",
       "2     Arizona  1992     NaN        3258079            3401580   \n",
       "3    Arkansas  1992     NaN        1711959            1743022   \n",
       "4  California  1992     NaN       26260025           27138832   \n",
       "\n",
       "   Expenditure_Per_Pupil  Population  GDP_Per_Capita  State_Tax_Collection  \\\n",
       "0                 3616.0   4139269.0             NaN          1.647790e+08   \n",
       "1                 8450.0    587073.0             NaN          2.000250e+08   \n",
       "2                 4381.0   3867333.0             NaN          2.108240e+08   \n",
       "3                 4031.0   2394098.0             NaN          1.255250e+08   \n",
       "4                 4746.0  30875920.0             NaN          4.518418e+09   \n",
       "\n",
       "   Income_Per_Capita  Known_Property_Crimes  \n",
       "0              17537               163966.0  \n",
       "1              23938                28394.0  \n",
       "2              18129               235883.0  \n",
       "3              16451               100069.0  \n",
       "4              22644              1715360.0  "
      ]
     },
     "execution_count": 70,
     "metadata": {},
     "output_type": "execute_result"
    }
   ],
   "source": [
    "df = df.join(df0[['location', 'Date', 'Value']].set_index(['location', 'Date']), how = 'left', on = ['State', 'Year'])\n",
    "df.columns = df.columns.str.replace('Value', 'Known_Property_Crimes')\n",
    "df.head()"
   ]
  },
  {
   "cell_type": "markdown",
   "metadata": {},
   "source": [
    "## usa_unemployment_rate_state"
   ]
  },
  {
   "cell_type": "code",
   "execution_count": 71,
   "metadata": {},
   "outputs": [
    {
     "data": {
      "text/html": [
       "<div>\n",
       "<style scoped>\n",
       "    .dataframe tbody tr th:only-of-type {\n",
       "        vertical-align: middle;\n",
       "    }\n",
       "\n",
       "    .dataframe tbody tr th {\n",
       "        vertical-align: top;\n",
       "    }\n",
       "\n",
       "    .dataframe thead th {\n",
       "        text-align: right;\n",
       "    }\n",
       "</style>\n",
       "<table border=\"1\" class=\"dataframe\">\n",
       "  <thead>\n",
       "    <tr style=\"text-align: right;\">\n",
       "      <th></th>\n",
       "      <th>region</th>\n",
       "      <th>series</th>\n",
       "      <th>Unit</th>\n",
       "      <th>Date</th>\n",
       "      <th>Value</th>\n",
       "    </tr>\n",
       "  </thead>\n",
       "  <tbody>\n",
       "    <tr>\n",
       "      <th>0</th>\n",
       "      <td>Alabama</td>\n",
       "      <td>Unemployment Rate, SA</td>\n",
       "      <td>%</td>\n",
       "      <td>1990M1</td>\n",
       "      <td>6.7</td>\n",
       "    </tr>\n",
       "    <tr>\n",
       "      <th>1</th>\n",
       "      <td>Alabama</td>\n",
       "      <td>Unemployment Rate, SA</td>\n",
       "      <td>%</td>\n",
       "      <td>1990M2</td>\n",
       "      <td>6.7</td>\n",
       "    </tr>\n",
       "    <tr>\n",
       "      <th>2</th>\n",
       "      <td>Alabama</td>\n",
       "      <td>Unemployment Rate, SA</td>\n",
       "      <td>%</td>\n",
       "      <td>1990M3</td>\n",
       "      <td>6.7</td>\n",
       "    </tr>\n",
       "    <tr>\n",
       "      <th>3</th>\n",
       "      <td>Alabama</td>\n",
       "      <td>Unemployment Rate, SA</td>\n",
       "      <td>%</td>\n",
       "      <td>1990M4</td>\n",
       "      <td>6.7</td>\n",
       "    </tr>\n",
       "    <tr>\n",
       "      <th>4</th>\n",
       "      <td>Alabama</td>\n",
       "      <td>Unemployment Rate, SA</td>\n",
       "      <td>%</td>\n",
       "      <td>1990M5</td>\n",
       "      <td>6.6</td>\n",
       "    </tr>\n",
       "  </tbody>\n",
       "</table>\n",
       "</div>"
      ],
      "text/plain": [
       "    region                 series Unit    Date  Value\n",
       "0  Alabama  Unemployment Rate, SA    %  1990M1    6.7\n",
       "1  Alabama  Unemployment Rate, SA    %  1990M2    6.7\n",
       "2  Alabama  Unemployment Rate, SA    %  1990M3    6.7\n",
       "3  Alabama  Unemployment Rate, SA    %  1990M4    6.7\n",
       "4  Alabama  Unemployment Rate, SA    %  1990M5    6.6"
      ]
     },
     "execution_count": 71,
     "metadata": {},
     "output_type": "execute_result"
    }
   ],
   "source": [
    "df0 = pd.read_csv('./data/data_raw/usa_unemployment_rate_state.csv')\n",
    "df0.head()"
   ]
  },
  {
   "cell_type": "code",
   "execution_count": 72,
   "metadata": {},
   "outputs": [
    {
     "data": {
      "text/plain": [
       "array([ True,  True,  True,  True,  True,  True,  True,  True, False,\n",
       "        True,  True,  True,  True,  True,  True,  True,  True,  True,\n",
       "        True,  True,  True,  True,  True,  True,  True,  True,  True,\n",
       "        True,  True,  True,  True,  True, False,  True,  True,  True,\n",
       "        True,  True,  True,  True,  True,  True,  True,  True,  True,\n",
       "        True,  True,  True,  True,  True,  True])"
      ]
     },
     "execution_count": 72,
     "metadata": {},
     "output_type": "execute_result"
    }
   ],
   "source": [
    "df0.region.unique()  == df.State.unique()"
   ]
  },
  {
   "cell_type": "code",
   "execution_count": 73,
   "metadata": {},
   "outputs": [],
   "source": [
    "df0.region = df0.region.str.replace('District of Columbia, DC', 'District of Columbia')\n",
    "df0.region = df0.region.str.replace('New York \\(States\\)', 'New York')"
   ]
  },
  {
   "cell_type": "code",
   "execution_count": 74,
   "metadata": {},
   "outputs": [],
   "source": [
    "df0.Date = pd.to_datetime(df0.Date, format='%YM%m', errors='coerce')"
   ]
  },
  {
   "cell_type": "code",
   "execution_count": 75,
   "metadata": {},
   "outputs": [
    {
     "data": {
      "text/html": [
       "<div>\n",
       "<style scoped>\n",
       "    .dataframe tbody tr th:only-of-type {\n",
       "        vertical-align: middle;\n",
       "    }\n",
       "\n",
       "    .dataframe tbody tr th {\n",
       "        vertical-align: top;\n",
       "    }\n",
       "\n",
       "    .dataframe thead th {\n",
       "        text-align: right;\n",
       "    }\n",
       "</style>\n",
       "<table border=\"1\" class=\"dataframe\">\n",
       "  <thead>\n",
       "    <tr style=\"text-align: right;\">\n",
       "      <th></th>\n",
       "      <th>region</th>\n",
       "      <th>series</th>\n",
       "      <th>Unit</th>\n",
       "      <th>Date</th>\n",
       "      <th>Value</th>\n",
       "    </tr>\n",
       "  </thead>\n",
       "  <tbody>\n",
       "    <tr>\n",
       "      <th>0</th>\n",
       "      <td>Alabama</td>\n",
       "      <td>Unemployment Rate, SA</td>\n",
       "      <td>%</td>\n",
       "      <td>1990-01-01</td>\n",
       "      <td>6.7</td>\n",
       "    </tr>\n",
       "    <tr>\n",
       "      <th>1</th>\n",
       "      <td>Alabama</td>\n",
       "      <td>Unemployment Rate, SA</td>\n",
       "      <td>%</td>\n",
       "      <td>1990-02-01</td>\n",
       "      <td>6.7</td>\n",
       "    </tr>\n",
       "    <tr>\n",
       "      <th>2</th>\n",
       "      <td>Alabama</td>\n",
       "      <td>Unemployment Rate, SA</td>\n",
       "      <td>%</td>\n",
       "      <td>1990-03-01</td>\n",
       "      <td>6.7</td>\n",
       "    </tr>\n",
       "    <tr>\n",
       "      <th>3</th>\n",
       "      <td>Alabama</td>\n",
       "      <td>Unemployment Rate, SA</td>\n",
       "      <td>%</td>\n",
       "      <td>1990-04-01</td>\n",
       "      <td>6.7</td>\n",
       "    </tr>\n",
       "    <tr>\n",
       "      <th>4</th>\n",
       "      <td>Alabama</td>\n",
       "      <td>Unemployment Rate, SA</td>\n",
       "      <td>%</td>\n",
       "      <td>1990-05-01</td>\n",
       "      <td>6.6</td>\n",
       "    </tr>\n",
       "  </tbody>\n",
       "</table>\n",
       "</div>"
      ],
      "text/plain": [
       "    region                 series Unit       Date  Value\n",
       "0  Alabama  Unemployment Rate, SA    % 1990-01-01    6.7\n",
       "1  Alabama  Unemployment Rate, SA    % 1990-02-01    6.7\n",
       "2  Alabama  Unemployment Rate, SA    % 1990-03-01    6.7\n",
       "3  Alabama  Unemployment Rate, SA    % 1990-04-01    6.7\n",
       "4  Alabama  Unemployment Rate, SA    % 1990-05-01    6.6"
      ]
     },
     "execution_count": 75,
     "metadata": {},
     "output_type": "execute_result"
    }
   ],
   "source": [
    "df0.head()"
   ]
  },
  {
   "cell_type": "code",
   "execution_count": 76,
   "metadata": {},
   "outputs": [
    {
     "data": {
      "text/html": [
       "<div>\n",
       "<style scoped>\n",
       "    .dataframe tbody tr th:only-of-type {\n",
       "        vertical-align: middle;\n",
       "    }\n",
       "\n",
       "    .dataframe tbody tr th {\n",
       "        vertical-align: top;\n",
       "    }\n",
       "\n",
       "    .dataframe thead th {\n",
       "        text-align: right;\n",
       "    }\n",
       "</style>\n",
       "<table border=\"1\" class=\"dataframe\">\n",
       "  <thead>\n",
       "    <tr style=\"text-align: right;\">\n",
       "      <th></th>\n",
       "      <th>region</th>\n",
       "      <th>Date</th>\n",
       "      <th>Value</th>\n",
       "    </tr>\n",
       "  </thead>\n",
       "  <tbody>\n",
       "    <tr>\n",
       "      <th>0</th>\n",
       "      <td>Alabama</td>\n",
       "      <td>1990-12-31</td>\n",
       "      <td>6.791667</td>\n",
       "    </tr>\n",
       "    <tr>\n",
       "      <th>1</th>\n",
       "      <td>Alabama</td>\n",
       "      <td>1991-12-31</td>\n",
       "      <td>7.350000</td>\n",
       "    </tr>\n",
       "    <tr>\n",
       "      <th>2</th>\n",
       "      <td>Alabama</td>\n",
       "      <td>1992-12-31</td>\n",
       "      <td>7.566667</td>\n",
       "    </tr>\n",
       "    <tr>\n",
       "      <th>3</th>\n",
       "      <td>Alabama</td>\n",
       "      <td>1993-12-31</td>\n",
       "      <td>7.366667</td>\n",
       "    </tr>\n",
       "    <tr>\n",
       "      <th>4</th>\n",
       "      <td>Alabama</td>\n",
       "      <td>1994-12-31</td>\n",
       "      <td>6.191667</td>\n",
       "    </tr>\n",
       "  </tbody>\n",
       "</table>\n",
       "</div>"
      ],
      "text/plain": [
       "    region       Date     Value\n",
       "0  Alabama 1990-12-31  6.791667\n",
       "1  Alabama 1991-12-31  7.350000\n",
       "2  Alabama 1992-12-31  7.566667\n",
       "3  Alabama 1993-12-31  7.366667\n",
       "4  Alabama 1994-12-31  6.191667"
      ]
     },
     "execution_count": 76,
     "metadata": {},
     "output_type": "execute_result"
    }
   ],
   "source": [
    "df0  = df0.set_index('Date').groupby('region').Value.resample('Y').mean().to_frame().reset_index()\n",
    "df0.head()"
   ]
  },
  {
   "cell_type": "code",
   "execution_count": 77,
   "metadata": {},
   "outputs": [
    {
     "name": "stdout",
     "output_type": "stream",
     "text": [
      "<class 'pandas.core.frame.DataFrame'>\n",
      "RangeIndex: 1428 entries, 0 to 1427\n",
      "Data columns (total 3 columns):\n",
      "region    1428 non-null object\n",
      "Date      1428 non-null datetime64[ns]\n",
      "Value     1428 non-null float64\n",
      "dtypes: datetime64[ns](1), float64(1), object(1)\n",
      "memory usage: 33.5+ KB\n"
     ]
    }
   ],
   "source": [
    "df0.info()"
   ]
  },
  {
   "cell_type": "code",
   "execution_count": 78,
   "metadata": {},
   "outputs": [],
   "source": [
    "df0.Date = df0.Date.astype(str).apply(lambda x: x[:4])"
   ]
  },
  {
   "cell_type": "code",
   "execution_count": 79,
   "metadata": {},
   "outputs": [],
   "source": [
    "df0.Value = df0.Value * 0.01"
   ]
  },
  {
   "cell_type": "code",
   "execution_count": 80,
   "metadata": {},
   "outputs": [],
   "source": [
    "df0.Date = df0.Date.astype(int)"
   ]
  },
  {
   "cell_type": "code",
   "execution_count": 81,
   "metadata": {},
   "outputs": [
    {
     "data": {
      "text/html": [
       "<div>\n",
       "<style scoped>\n",
       "    .dataframe tbody tr th:only-of-type {\n",
       "        vertical-align: middle;\n",
       "    }\n",
       "\n",
       "    .dataframe tbody tr th {\n",
       "        vertical-align: top;\n",
       "    }\n",
       "\n",
       "    .dataframe thead th {\n",
       "        text-align: right;\n",
       "    }\n",
       "</style>\n",
       "<table border=\"1\" class=\"dataframe\">\n",
       "  <thead>\n",
       "    <tr style=\"text-align: right;\">\n",
       "      <th></th>\n",
       "      <th>region</th>\n",
       "      <th>Date</th>\n",
       "      <th>Value</th>\n",
       "    </tr>\n",
       "  </thead>\n",
       "  <tbody>\n",
       "    <tr>\n",
       "      <th>0</th>\n",
       "      <td>Alabama</td>\n",
       "      <td>1990</td>\n",
       "      <td>0.067917</td>\n",
       "    </tr>\n",
       "    <tr>\n",
       "      <th>1</th>\n",
       "      <td>Alabama</td>\n",
       "      <td>1991</td>\n",
       "      <td>0.073500</td>\n",
       "    </tr>\n",
       "    <tr>\n",
       "      <th>2</th>\n",
       "      <td>Alabama</td>\n",
       "      <td>1992</td>\n",
       "      <td>0.075667</td>\n",
       "    </tr>\n",
       "    <tr>\n",
       "      <th>3</th>\n",
       "      <td>Alabama</td>\n",
       "      <td>1993</td>\n",
       "      <td>0.073667</td>\n",
       "    </tr>\n",
       "    <tr>\n",
       "      <th>4</th>\n",
       "      <td>Alabama</td>\n",
       "      <td>1994</td>\n",
       "      <td>0.061917</td>\n",
       "    </tr>\n",
       "  </tbody>\n",
       "</table>\n",
       "</div>"
      ],
      "text/plain": [
       "    region  Date     Value\n",
       "0  Alabama  1990  0.067917\n",
       "1  Alabama  1991  0.073500\n",
       "2  Alabama  1992  0.075667\n",
       "3  Alabama  1993  0.073667\n",
       "4  Alabama  1994  0.061917"
      ]
     },
     "execution_count": 81,
     "metadata": {},
     "output_type": "execute_result"
    }
   ],
   "source": [
    "df0.head()"
   ]
  },
  {
   "cell_type": "code",
   "execution_count": 82,
   "metadata": {},
   "outputs": [
    {
     "data": {
      "text/html": [
       "<div>\n",
       "<style scoped>\n",
       "    .dataframe tbody tr th:only-of-type {\n",
       "        vertical-align: middle;\n",
       "    }\n",
       "\n",
       "    .dataframe tbody tr th {\n",
       "        vertical-align: top;\n",
       "    }\n",
       "\n",
       "    .dataframe thead th {\n",
       "        text-align: right;\n",
       "    }\n",
       "</style>\n",
       "<table border=\"1\" class=\"dataframe\">\n",
       "  <thead>\n",
       "    <tr style=\"text-align: right;\">\n",
       "      <th></th>\n",
       "      <th>State</th>\n",
       "      <th>Year</th>\n",
       "      <th>Enroll</th>\n",
       "      <th>Total_Revenue</th>\n",
       "      <th>Total_Expenditure</th>\n",
       "      <th>Expenditure_Per_Pupil</th>\n",
       "      <th>Population</th>\n",
       "      <th>GDP_Per_Capita</th>\n",
       "      <th>State_Tax_Collection</th>\n",
       "      <th>Income_Per_Capita</th>\n",
       "      <th>Known_Property_Crimes</th>\n",
       "      <th>Unemployment_Rate</th>\n",
       "    </tr>\n",
       "  </thead>\n",
       "  <tbody>\n",
       "    <tr>\n",
       "      <th>0</th>\n",
       "      <td>Alabama</td>\n",
       "      <td>1992</td>\n",
       "      <td>NaN</td>\n",
       "      <td>2678885</td>\n",
       "      <td>2653798</td>\n",
       "      <td>3616.0</td>\n",
       "      <td>4139269.0</td>\n",
       "      <td>NaN</td>\n",
       "      <td>1.647790e+08</td>\n",
       "      <td>17537</td>\n",
       "      <td>163966.0</td>\n",
       "      <td>0.075667</td>\n",
       "    </tr>\n",
       "    <tr>\n",
       "      <th>1</th>\n",
       "      <td>Alaska</td>\n",
       "      <td>1992</td>\n",
       "      <td>NaN</td>\n",
       "      <td>1049591</td>\n",
       "      <td>972488</td>\n",
       "      <td>8450.0</td>\n",
       "      <td>587073.0</td>\n",
       "      <td>NaN</td>\n",
       "      <td>2.000250e+08</td>\n",
       "      <td>23938</td>\n",
       "      <td>28394.0</td>\n",
       "      <td>0.089167</td>\n",
       "    </tr>\n",
       "    <tr>\n",
       "      <th>2</th>\n",
       "      <td>Arizona</td>\n",
       "      <td>1992</td>\n",
       "      <td>NaN</td>\n",
       "      <td>3258079</td>\n",
       "      <td>3401580</td>\n",
       "      <td>4381.0</td>\n",
       "      <td>3867333.0</td>\n",
       "      <td>NaN</td>\n",
       "      <td>2.108240e+08</td>\n",
       "      <td>18129</td>\n",
       "      <td>235883.0</td>\n",
       "      <td>0.075417</td>\n",
       "    </tr>\n",
       "    <tr>\n",
       "      <th>3</th>\n",
       "      <td>Arkansas</td>\n",
       "      <td>1992</td>\n",
       "      <td>NaN</td>\n",
       "      <td>1711959</td>\n",
       "      <td>1743022</td>\n",
       "      <td>4031.0</td>\n",
       "      <td>2394098.0</td>\n",
       "      <td>NaN</td>\n",
       "      <td>1.255250e+08</td>\n",
       "      <td>16451</td>\n",
       "      <td>100069.0</td>\n",
       "      <td>0.070917</td>\n",
       "    </tr>\n",
       "    <tr>\n",
       "      <th>4</th>\n",
       "      <td>California</td>\n",
       "      <td>1992</td>\n",
       "      <td>NaN</td>\n",
       "      <td>26260025</td>\n",
       "      <td>27138832</td>\n",
       "      <td>4746.0</td>\n",
       "      <td>30875920.0</td>\n",
       "      <td>NaN</td>\n",
       "      <td>4.518418e+09</td>\n",
       "      <td>22644</td>\n",
       "      <td>1715360.0</td>\n",
       "      <td>0.093000</td>\n",
       "    </tr>\n",
       "  </tbody>\n",
       "</table>\n",
       "</div>"
      ],
      "text/plain": [
       "        State  Year  Enroll  Total_Revenue  Total_Expenditure  \\\n",
       "0     Alabama  1992     NaN        2678885            2653798   \n",
       "1      Alaska  1992     NaN        1049591             972488   \n",
       "2     Arizona  1992     NaN        3258079            3401580   \n",
       "3    Arkansas  1992     NaN        1711959            1743022   \n",
       "4  California  1992     NaN       26260025           27138832   \n",
       "\n",
       "   Expenditure_Per_Pupil  Population  GDP_Per_Capita  State_Tax_Collection  \\\n",
       "0                 3616.0   4139269.0             NaN          1.647790e+08   \n",
       "1                 8450.0    587073.0             NaN          2.000250e+08   \n",
       "2                 4381.0   3867333.0             NaN          2.108240e+08   \n",
       "3                 4031.0   2394098.0             NaN          1.255250e+08   \n",
       "4                 4746.0  30875920.0             NaN          4.518418e+09   \n",
       "\n",
       "   Income_Per_Capita  Known_Property_Crimes  Unemployment_Rate  \n",
       "0              17537               163966.0           0.075667  \n",
       "1              23938                28394.0           0.089167  \n",
       "2              18129               235883.0           0.075417  \n",
       "3              16451               100069.0           0.070917  \n",
       "4              22644              1715360.0           0.093000  "
      ]
     },
     "execution_count": 82,
     "metadata": {},
     "output_type": "execute_result"
    }
   ],
   "source": [
    "df = df.join(df0[['region', 'Date', 'Value']].set_index(['region', 'Date']), how = 'left', on = ['State', 'Year'])\n",
    "df.columns = df.columns.str.replace('Value', 'Unemployment_Rate')\n",
    "df.head()"
   ]
  },
  {
   "cell_type": "code",
   "execution_count": 83,
   "metadata": {},
   "outputs": [
    {
     "data": {
      "text/plain": [
       "State                      0\n",
       "Year                       0\n",
       "Enroll                    51\n",
       "Total_Revenue              0\n",
       "Total_Expenditure          0\n",
       "Expenditure_Per_Pupil     51\n",
       "Population                 0\n",
       "GDP_Per_Capita           255\n",
       "State_Tax_Collection     120\n",
       "Income_Per_Capita          0\n",
       "Known_Property_Crimes      5\n",
       "Unemployment_Rate          0\n",
       "dtype: int64"
      ]
     },
     "execution_count": 83,
     "metadata": {},
     "output_type": "execute_result"
    }
   ],
   "source": [
    "df.isnull().sum()"
   ]
  },
  {
   "cell_type": "code",
   "execution_count": 84,
   "metadata": {},
   "outputs": [
    {
     "data": {
      "text/plain": [
       "array([1990, 1991, 1992, 1993, 1994, 1995, 1996, 1997, 1998, 1999, 2000,\n",
       "       2001, 2002, 2003, 2004, 2005, 2006, 2007, 2008, 2009, 2010, 2011,\n",
       "       2012, 2013, 2014, 2015, 2016, 2017])"
      ]
     },
     "execution_count": 84,
     "metadata": {},
     "output_type": "execute_result"
    }
   ],
   "source": [
    "df0.Date.unique()"
   ]
  },
  {
   "cell_type": "code",
   "execution_count": 87,
   "metadata": {},
   "outputs": [],
   "source": [
    "#df.to_csv('./data/data_cleaned/combined_data_state_level.csv', index = False)"
   ]
  },
  {
   "cell_type": "markdown",
   "metadata": {},
   "source": [
    "# National Level Data"
   ]
  },
  {
   "cell_type": "markdown",
   "metadata": {},
   "source": [
    "+ us-dollar-index-historical-chart.csv\n",
    "+ usa_youth_access_to_edu_national.csv\n",
    "+ usa_18_year_old_in_education_national.csv"
   ]
  },
  {
   "cell_type": "code",
   "execution_count": null,
   "metadata": {},
   "outputs": [],
   "source": []
  },
  {
   "cell_type": "code",
   "execution_count": null,
   "metadata": {},
   "outputs": [],
   "source": []
  },
  {
   "cell_type": "code",
   "execution_count": null,
   "metadata": {},
   "outputs": [],
   "source": []
  }
 ],
 "metadata": {
  "kernelspec": {
   "display_name": "Python 3",
   "language": "python",
   "name": "python3"
  },
  "language_info": {
   "codemirror_mode": {
    "name": "ipython",
    "version": 3
   },
   "file_extension": ".py",
   "mimetype": "text/x-python",
   "name": "python",
   "nbconvert_exporter": "python",
   "pygments_lexer": "ipython3",
   "version": "3.6.5"
  }
 },
 "nbformat": 4,
 "nbformat_minor": 2
}
