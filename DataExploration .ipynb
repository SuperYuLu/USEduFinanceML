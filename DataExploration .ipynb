{
 "cells": [
  {
   "cell_type": "code",
   "execution_count": 1,
   "metadata": {},
   "outputs": [],
   "source": [
    "import pandas as pd \n",
    "import numpy as np \n",
    "import matplotlib.pyplot as plt \n",
    "%matplotlib inline"
   ]
  },
  {
   "cell_type": "markdown",
   "metadata": {},
   "source": [
    "# 1. Introduction"
   ]
  },
  {
   "cell_type": "markdown",
   "metadata": {},
   "source": [
    "This jupyter notebook is to take a general data exploration to get sense of how the data looks like"
   ]
  },
  {
   "cell_type": "markdown",
   "metadata": {},
   "source": [
    "# 2. Data List"
   ]
  },
  {
   "cell_type": "code",
   "execution_count": 2,
   "metadata": {},
   "outputs": [],
   "source": [
    "dataFolder = '/home/yulu/MLData/'\n",
    "fileFinanceMain = 'elsect_main.csv'\n",
    "fileFinanceSum = 'elsect_summary.csv'\n",
    "filePop19 = 'POP1990.csv'\n",
    "filePop20 = 'POP2000.csv'"
   ]
  },
  {
   "cell_type": "markdown",
   "metadata": {},
   "source": [
    "# 3. Finanace Main"
   ]
  },
  {
   "cell_type": "code",
   "execution_count": 3,
   "metadata": {},
   "outputs": [],
   "source": [
    "fmTypes = {'STATE': object, \n",
    "          'ENROLL': np.float32,\n",
    "          'YRDATA': np.uint16,\n",
    "          'TOTALREV': np.uint16,\n",
    "          'TOTALEXP': np.uint16}\n",
    "#fm = pd.read_csv(dataFolder + fileFinanceMain, usecols=fmTypes.keys(), dtype=fmTypes)"
   ]
  },
  {
   "cell_type": "code",
   "execution_count": 4,
   "metadata": {},
   "outputs": [],
   "source": [
    "df = pd.read_csv(dataFolder + fileFinanceMain)"
   ]
  },
  {
   "cell_type": "code",
   "execution_count": 5,
   "metadata": {},
   "outputs": [
    {
     "data": {
      "text/html": [
       "<div>\n",
       "<style scoped>\n",
       "    .dataframe tbody tr th:only-of-type {\n",
       "        vertical-align: middle;\n",
       "    }\n",
       "\n",
       "    .dataframe tbody tr th {\n",
       "        vertical-align: top;\n",
       "    }\n",
       "\n",
       "    .dataframe thead th {\n",
       "        text-align: right;\n",
       "    }\n",
       "</style>\n",
       "<table border=\"1\" class=\"dataframe\">\n",
       "  <thead>\n",
       "    <tr style=\"text-align: right;\">\n",
       "      <th></th>\n",
       "      <th>STATE</th>\n",
       "      <th>ENROLL</th>\n",
       "      <th>NAME</th>\n",
       "      <th>YRDATA</th>\n",
       "      <th>TOTALREV</th>\n",
       "      <th>TFEDREV</th>\n",
       "      <th>TSTREV</th>\n",
       "      <th>TLOCREV</th>\n",
       "      <th>TOTALEXP</th>\n",
       "      <th>TCURINST</th>\n",
       "      <th>TCURSSVC</th>\n",
       "      <th>TCURONON</th>\n",
       "      <th>TCAPOUT</th>\n",
       "    </tr>\n",
       "  </thead>\n",
       "  <tbody>\n",
       "    <tr>\n",
       "      <th>0</th>\n",
       "      <td>Alabama</td>\n",
       "      <td>7568.0</td>\n",
       "      <td>AUTAUGA CO SCH DIST</td>\n",
       "      <td>1995</td>\n",
       "      <td>31827</td>\n",
       "      <td>2821</td>\n",
       "      <td>21389</td>\n",
       "      <td>7617</td>\n",
       "      <td>27457</td>\n",
       "      <td>15228</td>\n",
       "      <td>7123</td>\n",
       "      <td>2575.0</td>\n",
       "      <td>2176</td>\n",
       "    </tr>\n",
       "    <tr>\n",
       "      <th>1</th>\n",
       "      <td>Alabama</td>\n",
       "      <td>19961.0</td>\n",
       "      <td>BALDWIN CO SCH DIST</td>\n",
       "      <td>1995</td>\n",
       "      <td>93379</td>\n",
       "      <td>6655</td>\n",
       "      <td>55108</td>\n",
       "      <td>31616</td>\n",
       "      <td>87973</td>\n",
       "      <td>48750</td>\n",
       "      <td>22961</td>\n",
       "      <td>6927.0</td>\n",
       "      <td>6795</td>\n",
       "    </tr>\n",
       "    <tr>\n",
       "      <th>2</th>\n",
       "      <td>Alabama</td>\n",
       "      <td>2045.0</td>\n",
       "      <td>BARBOUR CO SCH DIST</td>\n",
       "      <td>1995</td>\n",
       "      <td>9828</td>\n",
       "      <td>1676</td>\n",
       "      <td>7016</td>\n",
       "      <td>1136</td>\n",
       "      <td>9797</td>\n",
       "      <td>5635</td>\n",
       "      <td>2822</td>\n",
       "      <td>1144.0</td>\n",
       "      <td>35</td>\n",
       "    </tr>\n",
       "    <tr>\n",
       "      <th>3</th>\n",
       "      <td>Alabama</td>\n",
       "      <td>2972.0</td>\n",
       "      <td>EUFAULA CTY SCH DIST</td>\n",
       "      <td>1995</td>\n",
       "      <td>14374</td>\n",
       "      <td>1299</td>\n",
       "      <td>9301</td>\n",
       "      <td>3774</td>\n",
       "      <td>15272</td>\n",
       "      <td>7834</td>\n",
       "      <td>3626</td>\n",
       "      <td>1428.0</td>\n",
       "      <td>2384</td>\n",
       "    </tr>\n",
       "    <tr>\n",
       "      <th>4</th>\n",
       "      <td>Alabama</td>\n",
       "      <td>3539.0</td>\n",
       "      <td>BIBB CO SCH DIST</td>\n",
       "      <td>1995</td>\n",
       "      <td>14917</td>\n",
       "      <td>1923</td>\n",
       "      <td>11169</td>\n",
       "      <td>1825</td>\n",
       "      <td>14398</td>\n",
       "      <td>8449</td>\n",
       "      <td>3762</td>\n",
       "      <td>1528.0</td>\n",
       "      <td>529</td>\n",
       "    </tr>\n",
       "  </tbody>\n",
       "</table>\n",
       "</div>"
      ],
      "text/plain": [
       "     STATE   ENROLL                  NAME  YRDATA  TOTALREV  TFEDREV  TSTREV  \\\n",
       "0  Alabama   7568.0   AUTAUGA CO SCH DIST    1995     31827     2821   21389   \n",
       "1  Alabama  19961.0   BALDWIN CO SCH DIST    1995     93379     6655   55108   \n",
       "2  Alabama   2045.0   BARBOUR CO SCH DIST    1995      9828     1676    7016   \n",
       "3  Alabama   2972.0  EUFAULA CTY SCH DIST    1995     14374     1299    9301   \n",
       "4  Alabama   3539.0      BIBB CO SCH DIST    1995     14917     1923   11169   \n",
       "\n",
       "   TLOCREV  TOTALEXP  TCURINST  TCURSSVC  TCURONON  TCAPOUT  \n",
       "0     7617     27457     15228      7123    2575.0     2176  \n",
       "1    31616     87973     48750     22961    6927.0     6795  \n",
       "2     1136      9797      5635      2822    1144.0       35  \n",
       "3     3774     15272      7834      3626    1428.0     2384  \n",
       "4     1825     14398      8449      3762    1528.0      529  "
      ]
     },
     "execution_count": 5,
     "metadata": {},
     "output_type": "execute_result"
    }
   ],
   "source": [
    "df.head()"
   ]
  },
  {
   "cell_type": "code",
   "execution_count": 18,
   "metadata": {},
   "outputs": [
    {
     "data": {
      "text/html": [
       "<div>\n",
       "<style scoped>\n",
       "    .dataframe tbody tr th:only-of-type {\n",
       "        vertical-align: middle;\n",
       "    }\n",
       "\n",
       "    .dataframe tbody tr th {\n",
       "        vertical-align: top;\n",
       "    }\n",
       "\n",
       "    .dataframe thead th {\n",
       "        text-align: right;\n",
       "    }\n",
       "</style>\n",
       "<table border=\"1\" class=\"dataframe\">\n",
       "  <thead>\n",
       "    <tr style=\"text-align: right;\">\n",
       "      <th></th>\n",
       "      <th>STATE</th>\n",
       "      <th>ENROLL</th>\n",
       "      <th>NAME</th>\n",
       "      <th>TOTALREV</th>\n",
       "      <th>TFEDREV</th>\n",
       "      <th>TSTREV</th>\n",
       "      <th>TLOCREV</th>\n",
       "      <th>TOTALEXP</th>\n",
       "      <th>TCURINST</th>\n",
       "      <th>TCURSSVC</th>\n",
       "      <th>TCURONON</th>\n",
       "      <th>TCAPOUT</th>\n",
       "    </tr>\n",
       "    <tr>\n",
       "      <th>YRDATA</th>\n",
       "      <th></th>\n",
       "      <th></th>\n",
       "      <th></th>\n",
       "      <th></th>\n",
       "      <th></th>\n",
       "      <th></th>\n",
       "      <th></th>\n",
       "      <th></th>\n",
       "      <th></th>\n",
       "      <th></th>\n",
       "      <th></th>\n",
       "      <th></th>\n",
       "    </tr>\n",
       "  </thead>\n",
       "  <tbody>\n",
       "    <tr>\n",
       "      <th>1992</th>\n",
       "      <td>15868</td>\n",
       "      <td>0</td>\n",
       "      <td>15868</td>\n",
       "      <td>15868</td>\n",
       "      <td>15868</td>\n",
       "      <td>15868</td>\n",
       "      <td>15868</td>\n",
       "      <td>15868</td>\n",
       "      <td>15868</td>\n",
       "      <td>15868</td>\n",
       "      <td>0</td>\n",
       "      <td>15868</td>\n",
       "    </tr>\n",
       "    <tr>\n",
       "      <th>1993</th>\n",
       "      <td>14132</td>\n",
       "      <td>14132</td>\n",
       "      <td>14132</td>\n",
       "      <td>14132</td>\n",
       "      <td>14132</td>\n",
       "      <td>14132</td>\n",
       "      <td>14132</td>\n",
       "      <td>14132</td>\n",
       "      <td>14132</td>\n",
       "      <td>14132</td>\n",
       "      <td>14132</td>\n",
       "      <td>14132</td>\n",
       "    </tr>\n",
       "    <tr>\n",
       "      <th>1994</th>\n",
       "      <td>13358</td>\n",
       "      <td>13358</td>\n",
       "      <td>13358</td>\n",
       "      <td>13358</td>\n",
       "      <td>13358</td>\n",
       "      <td>13358</td>\n",
       "      <td>13358</td>\n",
       "      <td>13358</td>\n",
       "      <td>13358</td>\n",
       "      <td>13358</td>\n",
       "      <td>13358</td>\n",
       "      <td>13358</td>\n",
       "    </tr>\n",
       "    <tr>\n",
       "      <th>1995</th>\n",
       "      <td>15553</td>\n",
       "      <td>15553</td>\n",
       "      <td>15553</td>\n",
       "      <td>15553</td>\n",
       "      <td>15553</td>\n",
       "      <td>15553</td>\n",
       "      <td>15553</td>\n",
       "      <td>15553</td>\n",
       "      <td>15553</td>\n",
       "      <td>15553</td>\n",
       "      <td>15553</td>\n",
       "      <td>15553</td>\n",
       "    </tr>\n",
       "    <tr>\n",
       "      <th>1996</th>\n",
       "      <td>15506</td>\n",
       "      <td>15506</td>\n",
       "      <td>15506</td>\n",
       "      <td>15506</td>\n",
       "      <td>15506</td>\n",
       "      <td>15506</td>\n",
       "      <td>15506</td>\n",
       "      <td>15506</td>\n",
       "      <td>15506</td>\n",
       "      <td>15506</td>\n",
       "      <td>15506</td>\n",
       "      <td>15506</td>\n",
       "    </tr>\n",
       "    <tr>\n",
       "      <th>1997</th>\n",
       "      <td>15679</td>\n",
       "      <td>15679</td>\n",
       "      <td>15679</td>\n",
       "      <td>15679</td>\n",
       "      <td>15679</td>\n",
       "      <td>15679</td>\n",
       "      <td>15679</td>\n",
       "      <td>15679</td>\n",
       "      <td>15679</td>\n",
       "      <td>15679</td>\n",
       "      <td>15679</td>\n",
       "      <td>15679</td>\n",
       "    </tr>\n",
       "    <tr>\n",
       "      <th>1998</th>\n",
       "      <td>15512</td>\n",
       "      <td>15512</td>\n",
       "      <td>15512</td>\n",
       "      <td>15512</td>\n",
       "      <td>15512</td>\n",
       "      <td>15512</td>\n",
       "      <td>15512</td>\n",
       "      <td>15512</td>\n",
       "      <td>15512</td>\n",
       "      <td>15512</td>\n",
       "      <td>15512</td>\n",
       "      <td>15512</td>\n",
       "    </tr>\n",
       "    <tr>\n",
       "      <th>1999</th>\n",
       "      <td>15550</td>\n",
       "      <td>15550</td>\n",
       "      <td>15550</td>\n",
       "      <td>15550</td>\n",
       "      <td>15550</td>\n",
       "      <td>15550</td>\n",
       "      <td>15550</td>\n",
       "      <td>15550</td>\n",
       "      <td>15550</td>\n",
       "      <td>15550</td>\n",
       "      <td>15550</td>\n",
       "      <td>15550</td>\n",
       "    </tr>\n",
       "    <tr>\n",
       "      <th>2000</th>\n",
       "      <td>15514</td>\n",
       "      <td>15514</td>\n",
       "      <td>15514</td>\n",
       "      <td>15514</td>\n",
       "      <td>15514</td>\n",
       "      <td>15514</td>\n",
       "      <td>15514</td>\n",
       "      <td>15514</td>\n",
       "      <td>15514</td>\n",
       "      <td>15514</td>\n",
       "      <td>15514</td>\n",
       "      <td>15514</td>\n",
       "    </tr>\n",
       "    <tr>\n",
       "      <th>2001</th>\n",
       "      <td>15470</td>\n",
       "      <td>15470</td>\n",
       "      <td>15470</td>\n",
       "      <td>15470</td>\n",
       "      <td>15470</td>\n",
       "      <td>15470</td>\n",
       "      <td>15470</td>\n",
       "      <td>15470</td>\n",
       "      <td>15470</td>\n",
       "      <td>15470</td>\n",
       "      <td>15470</td>\n",
       "      <td>15470</td>\n",
       "    </tr>\n",
       "    <tr>\n",
       "      <th>2002</th>\n",
       "      <td>15383</td>\n",
       "      <td>15383</td>\n",
       "      <td>15383</td>\n",
       "      <td>15383</td>\n",
       "      <td>15383</td>\n",
       "      <td>15383</td>\n",
       "      <td>15383</td>\n",
       "      <td>15383</td>\n",
       "      <td>15383</td>\n",
       "      <td>15383</td>\n",
       "      <td>15383</td>\n",
       "      <td>15383</td>\n",
       "    </tr>\n",
       "    <tr>\n",
       "      <th>2003</th>\n",
       "      <td>15361</td>\n",
       "      <td>15361</td>\n",
       "      <td>15361</td>\n",
       "      <td>15361</td>\n",
       "      <td>15361</td>\n",
       "      <td>15361</td>\n",
       "      <td>15361</td>\n",
       "      <td>15361</td>\n",
       "      <td>15361</td>\n",
       "      <td>15361</td>\n",
       "      <td>15361</td>\n",
       "      <td>15361</td>\n",
       "    </tr>\n",
       "    <tr>\n",
       "      <th>2004</th>\n",
       "      <td>15370</td>\n",
       "      <td>15370</td>\n",
       "      <td>15370</td>\n",
       "      <td>15370</td>\n",
       "      <td>15370</td>\n",
       "      <td>15370</td>\n",
       "      <td>15370</td>\n",
       "      <td>15370</td>\n",
       "      <td>15370</td>\n",
       "      <td>15370</td>\n",
       "      <td>15370</td>\n",
       "      <td>15370</td>\n",
       "    </tr>\n",
       "    <tr>\n",
       "      <th>2005</th>\n",
       "      <td>15249</td>\n",
       "      <td>15249</td>\n",
       "      <td>15249</td>\n",
       "      <td>15249</td>\n",
       "      <td>15249</td>\n",
       "      <td>15249</td>\n",
       "      <td>15249</td>\n",
       "      <td>15249</td>\n",
       "      <td>15249</td>\n",
       "      <td>15249</td>\n",
       "      <td>15249</td>\n",
       "      <td>15249</td>\n",
       "    </tr>\n",
       "    <tr>\n",
       "      <th>2006</th>\n",
       "      <td>15188</td>\n",
       "      <td>15188</td>\n",
       "      <td>15188</td>\n",
       "      <td>15188</td>\n",
       "      <td>15188</td>\n",
       "      <td>15188</td>\n",
       "      <td>15188</td>\n",
       "      <td>15188</td>\n",
       "      <td>15188</td>\n",
       "      <td>15188</td>\n",
       "      <td>15188</td>\n",
       "      <td>15188</td>\n",
       "    </tr>\n",
       "    <tr>\n",
       "      <th>2007</th>\n",
       "      <td>14885</td>\n",
       "      <td>14885</td>\n",
       "      <td>14885</td>\n",
       "      <td>14885</td>\n",
       "      <td>14885</td>\n",
       "      <td>14885</td>\n",
       "      <td>14885</td>\n",
       "      <td>14885</td>\n",
       "      <td>14885</td>\n",
       "      <td>14885</td>\n",
       "      <td>14885</td>\n",
       "      <td>14885</td>\n",
       "    </tr>\n",
       "    <tr>\n",
       "      <th>2008</th>\n",
       "      <td>14866</td>\n",
       "      <td>14866</td>\n",
       "      <td>14866</td>\n",
       "      <td>14866</td>\n",
       "      <td>14866</td>\n",
       "      <td>14866</td>\n",
       "      <td>14866</td>\n",
       "      <td>14866</td>\n",
       "      <td>14866</td>\n",
       "      <td>14866</td>\n",
       "      <td>14866</td>\n",
       "      <td>14866</td>\n",
       "    </tr>\n",
       "    <tr>\n",
       "      <th>2009</th>\n",
       "      <td>14633</td>\n",
       "      <td>14633</td>\n",
       "      <td>14633</td>\n",
       "      <td>14633</td>\n",
       "      <td>14633</td>\n",
       "      <td>14633</td>\n",
       "      <td>14633</td>\n",
       "      <td>14633</td>\n",
       "      <td>14633</td>\n",
       "      <td>14633</td>\n",
       "      <td>14633</td>\n",
       "      <td>14633</td>\n",
       "    </tr>\n",
       "    <tr>\n",
       "      <th>2010</th>\n",
       "      <td>14549</td>\n",
       "      <td>14549</td>\n",
       "      <td>14549</td>\n",
       "      <td>14549</td>\n",
       "      <td>14549</td>\n",
       "      <td>14549</td>\n",
       "      <td>14549</td>\n",
       "      <td>14549</td>\n",
       "      <td>14549</td>\n",
       "      <td>14549</td>\n",
       "      <td>14549</td>\n",
       "      <td>14549</td>\n",
       "    </tr>\n",
       "    <tr>\n",
       "      <th>2011</th>\n",
       "      <td>14491</td>\n",
       "      <td>14491</td>\n",
       "      <td>14491</td>\n",
       "      <td>14491</td>\n",
       "      <td>14491</td>\n",
       "      <td>14491</td>\n",
       "      <td>14491</td>\n",
       "      <td>14491</td>\n",
       "      <td>14491</td>\n",
       "      <td>14491</td>\n",
       "      <td>14491</td>\n",
       "      <td>14491</td>\n",
       "    </tr>\n",
       "    <tr>\n",
       "      <th>2012</th>\n",
       "      <td>14482</td>\n",
       "      <td>14482</td>\n",
       "      <td>14482</td>\n",
       "      <td>14482</td>\n",
       "      <td>14482</td>\n",
       "      <td>14482</td>\n",
       "      <td>14482</td>\n",
       "      <td>14482</td>\n",
       "      <td>14482</td>\n",
       "      <td>14482</td>\n",
       "      <td>14482</td>\n",
       "      <td>14482</td>\n",
       "    </tr>\n",
       "    <tr>\n",
       "      <th>2013</th>\n",
       "      <td>14460</td>\n",
       "      <td>14460</td>\n",
       "      <td>14460</td>\n",
       "      <td>14460</td>\n",
       "      <td>14460</td>\n",
       "      <td>14460</td>\n",
       "      <td>14460</td>\n",
       "      <td>14460</td>\n",
       "      <td>14460</td>\n",
       "      <td>14460</td>\n",
       "      <td>14460</td>\n",
       "      <td>14460</td>\n",
       "    </tr>\n",
       "    <tr>\n",
       "      <th>2014</th>\n",
       "      <td>14401</td>\n",
       "      <td>14401</td>\n",
       "      <td>14401</td>\n",
       "      <td>14401</td>\n",
       "      <td>14401</td>\n",
       "      <td>14401</td>\n",
       "      <td>14401</td>\n",
       "      <td>14401</td>\n",
       "      <td>14401</td>\n",
       "      <td>14401</td>\n",
       "      <td>14401</td>\n",
       "      <td>14401</td>\n",
       "    </tr>\n",
       "    <tr>\n",
       "      <th>2015</th>\n",
       "      <td>14376</td>\n",
       "      <td>14376</td>\n",
       "      <td>14376</td>\n",
       "      <td>14376</td>\n",
       "      <td>14376</td>\n",
       "      <td>14376</td>\n",
       "      <td>14376</td>\n",
       "      <td>14376</td>\n",
       "      <td>14376</td>\n",
       "      <td>14376</td>\n",
       "      <td>14376</td>\n",
       "      <td>14376</td>\n",
       "    </tr>\n",
       "  </tbody>\n",
       "</table>\n",
       "</div>"
      ],
      "text/plain": [
       "        STATE  ENROLL   NAME  TOTALREV  TFEDREV  TSTREV  TLOCREV  TOTALEXP  \\\n",
       "YRDATA                                                                       \n",
       "1992    15868       0  15868     15868    15868   15868    15868     15868   \n",
       "1993    14132   14132  14132     14132    14132   14132    14132     14132   \n",
       "1994    13358   13358  13358     13358    13358   13358    13358     13358   \n",
       "1995    15553   15553  15553     15553    15553   15553    15553     15553   \n",
       "1996    15506   15506  15506     15506    15506   15506    15506     15506   \n",
       "1997    15679   15679  15679     15679    15679   15679    15679     15679   \n",
       "1998    15512   15512  15512     15512    15512   15512    15512     15512   \n",
       "1999    15550   15550  15550     15550    15550   15550    15550     15550   \n",
       "2000    15514   15514  15514     15514    15514   15514    15514     15514   \n",
       "2001    15470   15470  15470     15470    15470   15470    15470     15470   \n",
       "2002    15383   15383  15383     15383    15383   15383    15383     15383   \n",
       "2003    15361   15361  15361     15361    15361   15361    15361     15361   \n",
       "2004    15370   15370  15370     15370    15370   15370    15370     15370   \n",
       "2005    15249   15249  15249     15249    15249   15249    15249     15249   \n",
       "2006    15188   15188  15188     15188    15188   15188    15188     15188   \n",
       "2007    14885   14885  14885     14885    14885   14885    14885     14885   \n",
       "2008    14866   14866  14866     14866    14866   14866    14866     14866   \n",
       "2009    14633   14633  14633     14633    14633   14633    14633     14633   \n",
       "2010    14549   14549  14549     14549    14549   14549    14549     14549   \n",
       "2011    14491   14491  14491     14491    14491   14491    14491     14491   \n",
       "2012    14482   14482  14482     14482    14482   14482    14482     14482   \n",
       "2013    14460   14460  14460     14460    14460   14460    14460     14460   \n",
       "2014    14401   14401  14401     14401    14401   14401    14401     14401   \n",
       "2015    14376   14376  14376     14376    14376   14376    14376     14376   \n",
       "\n",
       "        TCURINST  TCURSSVC  TCURONON  TCAPOUT  \n",
       "YRDATA                                         \n",
       "1992       15868     15868         0    15868  \n",
       "1993       14132     14132     14132    14132  \n",
       "1994       13358     13358     13358    13358  \n",
       "1995       15553     15553     15553    15553  \n",
       "1996       15506     15506     15506    15506  \n",
       "1997       15679     15679     15679    15679  \n",
       "1998       15512     15512     15512    15512  \n",
       "1999       15550     15550     15550    15550  \n",
       "2000       15514     15514     15514    15514  \n",
       "2001       15470     15470     15470    15470  \n",
       "2002       15383     15383     15383    15383  \n",
       "2003       15361     15361     15361    15361  \n",
       "2004       15370     15370     15370    15370  \n",
       "2005       15249     15249     15249    15249  \n",
       "2006       15188     15188     15188    15188  \n",
       "2007       14885     14885     14885    14885  \n",
       "2008       14866     14866     14866    14866  \n",
       "2009       14633     14633     14633    14633  \n",
       "2010       14549     14549     14549    14549  \n",
       "2011       14491     14491     14491    14491  \n",
       "2012       14482     14482     14482    14482  \n",
       "2013       14460     14460     14460    14460  \n",
       "2014       14401     14401     14401    14401  \n",
       "2015       14376     14376     14376    14376  "
      ]
     },
     "execution_count": 18,
     "metadata": {},
     "output_type": "execute_result"
    }
   ],
   "source": [
    "df.groupby('YRDATA').count()"
   ]
  },
  {
   "cell_type": "code",
   "execution_count": 16,
   "metadata": {},
   "outputs": [
    {
     "data": {
      "text/plain": [
       "<matplotlib.axes._subplots.AxesSubplot at 0x7f480acbd240>"
      ]
     },
     "execution_count": 16,
     "metadata": {},
     "output_type": "execute_result"
    },
    {
     "data": {
      "image/png": "[encoded data removed]",
      "text/plain": [
       "<Figure size 432x288 with 1 Axes>"
      ]
     },
     "metadata": {},
     "output_type": "display_data"
    }
   ],
   "source": [
    "df.groupby('YRDATA').NAME.count().plot()"
   ]
  },
  {
   "cell_type": "code",
   "execution_count": 11,
   "metadata": {},
   "outputs": [
    {
     "name": "stdout",
     "output_type": "stream",
     "text": [
      "<class 'pandas.core.frame.DataFrame'>\n",
      "RangeIndex: 359836 entries, 0 to 359835\n",
      "Data columns (total 13 columns):\n",
      "STATE       359836 non-null object\n",
      "ENROLL      343968 non-null float64\n",
      "NAME        359836 non-null object\n",
      "YRDATA      359836 non-null int64\n",
      "TOTALREV    359836 non-null int64\n",
      "TFEDREV     359836 non-null int64\n",
      "TSTREV      359836 non-null int64\n",
      "TLOCREV     359836 non-null int64\n",
      "TOTALEXP    359836 non-null int64\n",
      "TCURINST    359836 non-null int64\n",
      "TCURSSVC    359836 non-null int64\n",
      "TCURONON    343968 non-null float64\n",
      "TCAPOUT     359836 non-null int64\n",
      "dtypes: float64(2), int64(9), object(2)\n",
      "memory usage: 35.7+ MB\n"
     ]
    }
   ],
   "source": [
    "df.info()"
   ]
  },
  {
   "cell_type": "code",
   "execution_count": 10,
   "metadata": {},
   "outputs": [
    {
     "data": {
      "text/plain": [
       "array(['Alabama', 'Alaska', 'Arizona', 'Arkansas', 'California',\n",
       "       'Colorado', 'Connecticut', 'Delaware', 'District of Columbia',\n",
       "       'Florida', 'Georgia', 'Hawaii', 'Idaho', 'Illinois', 'Indiana',\n",
       "       'Iowa', 'Kansas', 'Kentucky', 'Louisiana', 'Maine', 'Maryland',\n",
       "       'Massachusetts', 'Michigan', 'Minnesota', 'Mississippi',\n",
       "       'Missouri', 'Montana', 'Nebraska', 'Nevada', 'New Hampshire',\n",
       "       'New Jersey', 'New Mexico', 'New York', 'North Carolina',\n",
       "       'North Dakota', 'Ohio', 'Oklahoma', 'Oregon', 'Pennsylvania',\n",
       "       'Rhode Island', 'South Carolina', 'South Dakota', 'Tennessee',\n",
       "       'Texas', 'Utah', 'Vermont', 'Virginia', 'Washington',\n",
       "       'West Virginia', 'Wisconsin', 'Wyoming'], dtype=object)"
      ]
     },
     "execution_count": 10,
     "metadata": {},
     "output_type": "execute_result"
    }
   ],
   "source": [
    "df.STATE.unique()"
   ]
  },
  {
   "cell_type": "markdown",
   "metadata": {},
   "source": [
    "# Finance Sum"
   ]
  },
  {
   "cell_type": "code",
   "execution_count": 73,
   "metadata": {},
   "outputs": [],
   "source": [
    "df1 = pd.read_csv(dataFolder + fileFinanceSum)"
   ]
  },
  {
   "cell_type": "code",
   "execution_count": 75,
   "metadata": {},
   "outputs": [
    {
     "data": {
      "text/html": [
       "<div>\n",
       "<style scoped>\n",
       "    .dataframe tbody tr th:only-of-type {\n",
       "        vertical-align: middle;\n",
       "    }\n",
       "\n",
       "    .dataframe tbody tr th {\n",
       "        vertical-align: top;\n",
       "    }\n",
       "\n",
       "    .dataframe thead th {\n",
       "        text-align: right;\n",
       "    }\n",
       "</style>\n",
       "<table border=\"1\" class=\"dataframe\">\n",
       "  <thead>\n",
       "    <tr style=\"text-align: right;\">\n",
       "      <th></th>\n",
       "      <th>STATE</th>\n",
       "      <th>YEAR</th>\n",
       "      <th>ENROLL</th>\n",
       "      <th>TOTAL_REVENUE</th>\n",
       "      <th>FEDERAL_REVENUE</th>\n",
       "      <th>STATE_REVENUE</th>\n",
       "      <th>LOCAL_REVENUE</th>\n",
       "      <th>TOTAL_EXPENDITURE</th>\n",
       "      <th>INSTRUCTION_EXPENDITURE</th>\n",
       "      <th>SUPPORT_SERVICES_EXPENDITURE</th>\n",
       "      <th>OTHER_EXPENDITURE</th>\n",
       "      <th>CAPITAL_OUTLAY_EXPENDITURE</th>\n",
       "    </tr>\n",
       "  </thead>\n",
       "  <tbody>\n",
       "    <tr>\n",
       "      <th>False</th>\n",
       "      <td>1224.0</td>\n",
       "      <td>1224.0</td>\n",
       "      <td>1173</td>\n",
       "      <td>1224.0</td>\n",
       "      <td>1224.0</td>\n",
       "      <td>1224.0</td>\n",
       "      <td>1224.0</td>\n",
       "      <td>1224.0</td>\n",
       "      <td>1224.0</td>\n",
       "      <td>1224.0</td>\n",
       "      <td>1173</td>\n",
       "      <td>1224.0</td>\n",
       "    </tr>\n",
       "    <tr>\n",
       "      <th>True</th>\n",
       "      <td>0.0</td>\n",
       "      <td>0.0</td>\n",
       "      <td>51</td>\n",
       "      <td>0.0</td>\n",
       "      <td>0.0</td>\n",
       "      <td>0.0</td>\n",
       "      <td>0.0</td>\n",
       "      <td>0.0</td>\n",
       "      <td>0.0</td>\n",
       "      <td>0.0</td>\n",
       "      <td>51</td>\n",
       "      <td>0.0</td>\n",
       "    </tr>\n",
       "  </tbody>\n",
       "</table>\n",
       "</div>"
      ],
      "text/plain": [
       "        STATE    YEAR  ENROLL  TOTAL_REVENUE  FEDERAL_REVENUE  STATE_REVENUE  \\\n",
       "False  1224.0  1224.0    1173         1224.0           1224.0         1224.0   \n",
       "True      0.0     0.0      51            0.0              0.0            0.0   \n",
       "\n",
       "       LOCAL_REVENUE  TOTAL_EXPENDITURE  INSTRUCTION_EXPENDITURE  \\\n",
       "False         1224.0             1224.0                   1224.0   \n",
       "True             0.0                0.0                      0.0   \n",
       "\n",
       "       SUPPORT_SERVICES_EXPENDITURE  OTHER_EXPENDITURE  \\\n",
       "False                        1224.0               1173   \n",
       "True                            0.0                 51   \n",
       "\n",
       "       CAPITAL_OUTLAY_EXPENDITURE  \n",
       "False                      1224.0  \n",
       "True                          0.0  "
      ]
     },
     "execution_count": 75,
     "metadata": {},
     "output_type": "execute_result"
    }
   ],
   "source": [
    "df1.isna().apply(pd.value_counts).fillna(0)"
   ]
  },
  {
   "cell_type": "code",
   "execution_count": 26,
   "metadata": {},
   "outputs": [
    {
     "name": "stdout",
     "output_type": "stream",
     "text": [
      "<class 'pandas.core.frame.DataFrame'>\n",
      "RangeIndex: 1224 entries, 0 to 1223\n",
      "Data columns (total 12 columns):\n",
      "STATE                           1224 non-null object\n",
      "YEAR                            1224 non-null int64\n",
      "ENROLL                          1173 non-null float64\n",
      "TOTAL_REVENUE                   1224 non-null int64\n",
      "FEDERAL_REVENUE                 1224 non-null int64\n",
      "STATE_REVENUE                   1224 non-null int64\n",
      "LOCAL_REVENUE                   1224 non-null int64\n",
      "TOTAL_EXPENDITURE               1224 non-null int64\n",
      "INSTRUCTION_EXPENDITURE         1224 non-null int64\n",
      "SUPPORT_SERVICES_EXPENDITURE    1224 non-null int64\n",
      "OTHER_EXPENDITURE               1173 non-null float64\n",
      "CAPITAL_OUTLAY_EXPENDITURE      1224 non-null int64\n",
      "dtypes: float64(2), int64(9), object(1)\n",
      "memory usage: 114.8+ KB\n"
     ]
    }
   ],
   "source": [
    "df1.info()"
   ]
  },
  {
   "cell_type": "markdown",
   "metadata": {},
   "source": [
    "## 3.1 NAs"
   ]
  },
  {
   "cell_type": "code",
   "execution_count": 5,
   "metadata": {},
   "outputs": [
    {
     "data": {
      "text/plain": [
       "359836"
      ]
     },
     "execution_count": 5,
     "metadata": {},
     "output_type": "execute_result"
    }
   ],
   "source": [
    "fm.ENROLL.isna().count()d"
   ]
  },
  {
   "cell_type": "markdown",
   "metadata": {},
   "source": [
    "## 3.2 Index year"
   ]
  },
  {
   "cell_type": "code",
   "execution_count": 6,
   "metadata": {},
   "outputs": [
    {
     "data": {
      "text/plain": [
       "<matplotlib.axes._subplots.AxesSubplot at 0x7f4f007e1748>"
      ]
     },
     "execution_count": 6,
     "metadata": {},
     "output_type": "execute_result"
    },
    {
     "data": {
      "image/png": "[encoded data removed]",
      "text/plain": [
       "<matplotlib.figure.Figure at 0x7f4f0082cc18>"
      ]
     },
     "metadata": {},
     "output_type": "display_data"
    }
   ],
   "source": [
    "fm.groupby(['YRDATA','STATE'], as_index=True).sum().loc[1993].plot.barh(figsize = (10, 15))"
   ]
  },
  {
   "cell_type": "markdown",
   "metadata": {},
   "source": [
    "## 3.3 Index state"
   ]
  },
  {
   "cell_type": "code",
   "execution_count": 7,
   "metadata": {},
   "outputs": [
    {
     "data": {
      "text/plain": [
       "<matplotlib.axes._subplots.AxesSubplot at 0x7f4f00771fd0>"
      ]
     },
     "execution_count": 7,
     "metadata": {},
     "output_type": "execute_result"
    },
    {
     "data": {
      "image/png": "[encoded data removed]",
      "text/plain": [
       "<matplotlib.figure.Figure at 0x7f4f00860c50>"
      ]
     },
     "metadata": {},
     "output_type": "display_data"
    }
   ],
   "source": [
    "fm.groupby(['STATE','YRDATA'], as_index=True).sum().loc['Alabama'].plot(figsize=(10,5))"
   ]
  },
  {
   "cell_type": "markdown",
   "metadata": {},
   "source": [
    "# 4. Demographics"
   ]
  },
  {
   "cell_type": "code",
   "execution_count": 10,
   "metadata": {},
   "outputs": [],
   "source": [
    "popTypes = {'year': np.uint16, 'stname': object,  'tot_pop':np.uint32}\n",
    "df_Pop20 = pd.read_csv(dataFolder + filePop20, usecols=popTypes.keys(), dtype=popTypes)"
   ]
  },
  {
   "cell_type": "code",
   "execution_count": 11,
   "metadata": {},
   "outputs": [
    {
     "data": {
      "text/html": [
       "<div>\n",
       "<style scoped>\n",
       "    .dataframe tbody tr th:only-of-type {\n",
       "        vertical-align: middle;\n",
       "    }\n",
       "\n",
       "    .dataframe tbody tr th {\n",
       "        vertical-align: top;\n",
       "    }\n",
       "\n",
       "    .dataframe thead th {\n",
       "        text-align: right;\n",
       "    }\n",
       "</style>\n",
       "<table border=\"1\" class=\"dataframe\">\n",
       "  <thead>\n",
       "    <tr style=\"text-align: right;\">\n",
       "      <th></th>\n",
       "      <th>stname</th>\n",
       "      <th>year</th>\n",
       "      <th>tot_pop</th>\n",
       "    </tr>\n",
       "  </thead>\n",
       "  <tbody>\n",
       "    <tr>\n",
       "      <th>0</th>\n",
       "      <td>Alabama</td>\n",
       "      <td>2000</td>\n",
       "      <td>44021</td>\n",
       "    </tr>\n",
       "    <tr>\n",
       "      <th>1</th>\n",
       "      <td>Alabama</td>\n",
       "      <td>2001</td>\n",
       "      <td>44889</td>\n",
       "    </tr>\n",
       "    <tr>\n",
       "      <th>2</th>\n",
       "      <td>Alabama</td>\n",
       "      <td>2002</td>\n",
       "      <td>45909</td>\n",
       "    </tr>\n",
       "    <tr>\n",
       "      <th>3</th>\n",
       "      <td>Alabama</td>\n",
       "      <td>2003</td>\n",
       "      <td>46800</td>\n",
       "    </tr>\n",
       "    <tr>\n",
       "      <th>4</th>\n",
       "      <td>Alabama</td>\n",
       "      <td>2004</td>\n",
       "      <td>48366</td>\n",
       "    </tr>\n",
       "  </tbody>\n",
       "</table>\n",
       "</div>"
      ],
      "text/plain": [
       "    stname  year  tot_pop\n",
       "0  Alabama  2000    44021\n",
       "1  Alabama  2001    44889\n",
       "2  Alabama  2002    45909\n",
       "3  Alabama  2003    46800\n",
       "4  Alabama  2004    48366"
      ]
     },
     "execution_count": 11,
     "metadata": {},
     "output_type": "execute_result"
    }
   ],
   "source": [
    "df_Pop20.head()"
   ]
  },
  {
   "cell_type": "markdown",
   "metadata": {},
   "source": [
    "## 4.1 Index state"
   ]
  },
  {
   "cell_type": "code",
   "execution_count": 12,
   "metadata": {},
   "outputs": [
    {
     "data": {
      "text/plain": [
       "<matplotlib.axes._subplots.AxesSubplot at 0x7f4effe14278>"
      ]
     },
     "execution_count": 12,
     "metadata": {},
     "output_type": "execute_result"
    },
    {
     "data": {
      "image/png": "[encoded data removed]",
      "text/plain": [
       "<matplotlib.figure.Figure at 0x7f4effe09be0>"
      ]
     },
     "metadata": {},
     "output_type": "display_data"
    }
   ],
   "source": [
    "df_Pop20.groupby(['stname', 'year']).sum().loc['Alabama'].plot()"
   ]
  },
  {
   "cell_type": "markdown",
   "metadata": {},
   "source": [
    "## 4.2 Index year"
   ]
  },
  {
   "cell_type": "code",
   "execution_count": 13,
   "metadata": {},
   "outputs": [
    {
     "data": {
      "text/plain": [
       "<matplotlib.axes._subplots.AxesSubplot at 0x7f4f004e0518>"
      ]
     },
     "execution_count": 13,
     "metadata": {},
     "output_type": "execute_result"
    },
    {
     "data": {
      "image/png": "[encoded data removed]",
      "text/plain": [
       "<matplotlib.figure.Figure at 0x7f4effdf4e48>"
      ]
     },
     "metadata": {},
     "output_type": "display_data"
    }
   ],
   "source": [
    "df_Pop20.groupby(['year', 'stname']).sum().loc[2000].plot.barh(figsize=(10, 15))"
   ]
  },
  {
   "cell_type": "markdown",
   "metadata": {},
   "source": [
    "# US dollar index"
   ]
  },
  {
   "cell_type": "code",
   "execution_count": 11,
   "metadata": {},
   "outputs": [],
   "source": [
    "file = '/home/yulu/Github/USEduFinanceML/data/us-dollar-index-historical-chart.csv'"
   ]
  },
  {
   "cell_type": "code",
   "execution_count": 14,
   "metadata": {},
   "outputs": [],
   "source": [
    "dd = pd.read_csv(file, skiprows = 20)"
   ]
  },
  {
   "cell_type": "code",
   "execution_count": 15,
   "metadata": {},
   "outputs": [
    {
     "name": "stdout",
     "output_type": "stream",
     "text": [
      "<class 'pandas.core.frame.DataFrame'>\n",
      "RangeIndex: 536 entries, 0 to 535\n",
      "Data columns (total 2 columns):\n",
      "1973-07-01    536 non-null object\n",
      "94.995        536 non-null float64\n",
      "dtypes: float64(1), object(1)\n",
      "memory usage: 8.5+ KB\n"
     ]
    }
   ],
   "source": [
    "dd.info()"
   ]
  },
  {
   "cell_type": "code",
   "execution_count": 18,
   "metadata": {},
   "outputs": [
    {
     "data": {
      "text/html": [
       "<div>\n",
       "<style scoped>\n",
       "    .dataframe tbody tr th:only-of-type {\n",
       "        vertical-align: middle;\n",
       "    }\n",
       "\n",
       "    .dataframe tbody tr th {\n",
       "        vertical-align: top;\n",
       "    }\n",
       "\n",
       "    .dataframe thead th {\n",
       "        text-align: right;\n",
       "    }\n",
       "</style>\n",
       "<table border=\"1\" class=\"dataframe\">\n",
       "  <thead>\n",
       "    <tr style=\"text-align: right;\">\n",
       "      <th></th>\n",
       "      <th>1973-07-01</th>\n",
       "      <th>94.995</th>\n",
       "    </tr>\n",
       "  </thead>\n",
       "  <tbody>\n",
       "    <tr>\n",
       "      <th>531</th>\n",
       "      <td>2017-11-01</td>\n",
       "      <td>96.922</td>\n",
       "    </tr>\n",
       "    <tr>\n",
       "      <th>532</th>\n",
       "      <td>2017-12-01</td>\n",
       "      <td>96.639</td>\n",
       "    </tr>\n",
       "    <tr>\n",
       "      <th>533</th>\n",
       "      <td>2018-01-01</td>\n",
       "      <td>94.674</td>\n",
       "    </tr>\n",
       "    <tr>\n",
       "      <th>534</th>\n",
       "      <td>2018-02-01</td>\n",
       "      <td>94.966</td>\n",
       "    </tr>\n",
       "    <tr>\n",
       "      <th>535</th>\n",
       "      <td>2018-03-01</td>\n",
       "      <td>95.264</td>\n",
       "    </tr>\n",
       "  </tbody>\n",
       "</table>\n",
       "</div>"
      ],
      "text/plain": [
       "     1973-07-01  94.995\n",
       "531  2017-11-01  96.922\n",
       "532  2017-12-01  96.639\n",
       "533  2018-01-01  94.674\n",
       "534  2018-02-01  94.966\n",
       "535  2018-03-01  95.264"
      ]
     },
     "execution_count": 18,
     "metadata": {},
     "output_type": "execute_result"
    }
   ],
   "source": [
    "dd.tail()"
   ]
  },
  {
   "cell_type": "code",
   "execution_count": null,
   "metadata": {},
   "outputs": [],
   "source": []
  }
 ],
 "metadata": {
  "kernelspec": {
   "display_name": "Python 3",
   "language": "python",
   "name": "python3"
  },
  "language_info": {
   "codemirror_mode": {
    "name": "ipython",
    "version": 3
   },
   "file_extension": ".py",
   "mimetype": "text/x-python",
   "name": "python",
   "nbconvert_exporter": "python",
   "pygments_lexer": "ipython3",
   "version": "3.6.4"
  }
 },
 "nbformat": 4,
 "nbformat_minor": 2
}
